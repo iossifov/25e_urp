{
 "cells": [
  {
   "cell_type": "code",
   "execution_count": null,
   "id": "1012195c",
   "metadata": {},
   "outputs": [],
   "source": [
    "import matplotlib.pyplot as plt\n",
    "import numpy as np"
   ]
  },
  {
   "cell_type": "markdown",
   "id": "616b1482-ba04-4128-9bda-d28cb5f6780c",
   "metadata": {},
   "source": [
    "# Regression"
   ]
  },
  {
   "cell_type": "markdown",
   "id": "a20cc7f5-9c93-4e60-aed0-84ff1cd5a1ac",
   "metadata": {},
   "source": [
    "## Linear Regression"
   ]
  },
  {
   "cell_type": "code",
   "execution_count": null,
   "id": "e3c69657-2586-4add-befb-ed275d788f9f",
   "metadata": {},
   "outputs": [],
   "source": [
    "def generate_data(rule, size=100, noise_std=1):\n",
    "    xx = np.random.uniform(low=0, high=100, size=size)\n",
    "    noise = np.random.normal(0, noise_std, size=size)\n",
    "    yy = rule(xx) + noise\n",
    "    return xx, yy"
   ]
  },
  {
   "cell_type": "code",
   "execution_count": null,
   "id": "4f6cc4d2-e565-4ebc-a591-c85ddea7ec21",
   "metadata": {},
   "outputs": [],
   "source": [
    "xx, yy = generate_data(rule=lambda x: 10 + 0.5*x, noise_std=10)\n",
    "plt.scatter(xx, yy)"
   ]
  },
  {
   "cell_type": "code",
   "execution_count": null,
   "id": "1bb0b5fb-34ad-4bb4-9ef1-65675cad110b",
   "metadata": {},
   "outputs": [],
   "source": [
    "def plot_data(xx, yy, **kwargs):\n",
    "    plt.scatter(xx, yy, **kwargs)\n",
    "    plt.xlabel(\"X\")\n",
    "    plt.ylabel(\"Y\")\n"
   ]
  },
  {
   "cell_type": "code",
   "execution_count": null,
   "id": "1edda31b-4f75-4d16-b8f3-6c0f2e492f48",
   "metadata": {},
   "outputs": [],
   "source": [
    "plot_data(xx, yy)"
   ]
  },
  {
   "cell_type": "code",
   "execution_count": null,
   "id": "6fa3ca1c-d02a-42e7-8c8b-f3bbe79e9a3d",
   "metadata": {},
   "outputs": [],
   "source": [
    "xx, yy = generate_data(rule=lambda x: 10 + x**2, noise_std=1000)\n",
    "plot_data(xx, yy)"
   ]
  },
  {
   "cell_type": "code",
   "execution_count": null,
   "id": "1556c8c2-cc1b-4b20-b9cf-8b7aff0732db",
   "metadata": {},
   "outputs": [],
   "source": [
    "xx, yy = generate_data(rule=lambda x: 10 + 0.5*x, noise_std=10)"
   ]
  },
  {
   "cell_type": "markdown",
   "id": "e9696296-be7c-41b7-a17c-2f375bd36d7c",
   "metadata": {},
   "source": [
    "# General workflow"
   ]
  },
  {
   "cell_type": "markdown",
   "id": "97f724aa-635a-46ae-976e-94368e9d4e64",
   "metadata": {},
   "source": [
    "Make prediction -> Compare with ground truth -> Make a slightly better prediction <br>"
   ]
  },
  {
   "cell_type": "markdown",
   "id": "e6772386-7349-4ec5-9973-1cebde9d7157",
   "metadata": {},
   "source": [
    "Let's make a prediction!"
   ]
  },
  {
   "cell_type": "code",
   "execution_count": null,
   "id": "ba275dc3-eb7e-4489-8a39-46c656a1e357",
   "metadata": {},
   "outputs": [],
   "source": [
    "coefs = [10, -1] # Random prediction\n",
    "plot_data(xx, coefs[0] + xx*coefs[1], color=\"red\")\n",
    "plot_data(xx, yy, color=\"blue\")"
   ]
  },
  {
   "cell_type": "markdown",
   "id": "0d295287-7323-4c00-98ec-25ea6dba7912",
   "metadata": {},
   "source": [
    "How do we evaluate this prediction? We need to construct a cost function."
   ]
  },
  {
   "cell_type": "code",
   "execution_count": null,
   "id": "3dd0f406-f3fc-4b03-b0e2-2136ad13f4c9",
   "metadata": {},
   "outputs": [],
   "source": [
    "#TOREMOVE\n",
    "def cost(truth, prediction):\n",
    "    return ((truth-prediction)**2)"
   ]
  },
  {
   "cell_type": "code",
   "execution_count": null,
   "id": "891d6075-30d3-4ec2-b1b9-b558095f4ed1",
   "metadata": {},
   "outputs": [],
   "source": [
    "# def cost(truth, prediction):\n",
    "    ### What would be a reasonable cost function?"
   ]
  },
  {
   "cell_type": "code",
   "execution_count": null,
   "id": "c1459392-4c62-4e64-aa6e-f30610ed10fa",
   "metadata": {},
   "outputs": [],
   "source": [
    "## Let's check that this cost function makes sense"
   ]
  },
  {
   "cell_type": "code",
   "execution_count": null,
   "id": "211941c9-bfb0-4549-a72f-aab9d17d8781",
   "metadata": {},
   "outputs": [],
   "source": [
    "def score_prediction(xx, yy_true, coefs):\n",
    "    \"\"\"\n",
    "    Returns the cost function associated with given coefficients.\n",
    "    coefs is a list of two values - [intercept, slope].\n",
    "    \"\"\"\n",
    "    ### That should be easy.\n",
    "    #TOREMOVE\n",
    "    return cost(yy_true, coefs[0] + xx*coefs[1]).sum()"
   ]
  },
  {
   "cell_type": "markdown",
   "id": "dca7f1f0-3edd-4930-a086-3661fded0d32",
   "metadata": {},
   "source": [
    "Okay, we have a cost function that will allow us to evaluate any given prediction. Now we need some way to make a better prediction using this cost function. "
   ]
  },
  {
   "cell_type": "markdown",
   "id": "1af949ed-42a4-4c9f-bbbf-0456f71841de",
   "metadata": {},
   "source": [
    "Our strategy will be the following: <br>\n",
    "- Try changing each of the coefficients a little.\n",
    "- As soon as we stumble upon a beneficial change (that makes the regression line better), we accept the new separation line.\n",
    "This is not the most efficient strategy (and definitely not the one they really use in application) but it's simple and it works for this simple task!"
   ]
  },
  {
   "cell_type": "code",
   "execution_count": null,
   "id": "66ac243e-db77-44a0-8579-14eba8c74e8b",
   "metadata": {},
   "outputs": [],
   "source": [
    "def update_coefs_linreg(xx, yy_true, coefs, step_size=0.01):\n",
    "    new_coefs = coefs[:] # Initialize the new coefficients with the values of old coefficients, then we will change them a little.\n",
    "    ii = np.arange(len(coefs))\n",
    "    np.random.shuffle(ii)\n",
    "    for i in ii: # Try changing each of the coefficients a little\n",
    "        delta = np.zeros(len(coefs)) \n",
    "        delta[i] = step_size # Changing ith coefficient by 'step_size'\n",
    "        if score_prediction(xx, yy_true, coefs+delta) < score_prediction(xx, yy_true, coefs): # If adding delta to i-th coefficient makes the line better\n",
    "            new_coefs += delta # Add this delta\n",
    "            break # And end this optimization step\n",
    "        elif score_prediction(xx, yy_true, coefs-delta) < score_prediction(xx, yy_true, coefs): # If subtracting delta to i-th coefficient makes the line better\n",
    "            new_coefs -= delta # Subtract this delta\n",
    "            break # And end this optimization step\n",
    "    return new_coefs"
   ]
  },
  {
   "cell_type": "code",
   "execution_count": null,
   "id": "5037204b-3988-4f98-b3d8-131ef3716f23",
   "metadata": {},
   "outputs": [],
   "source": [
    "coefs = [10, -1]\n",
    "optimized_one_step_coefs = update_coefs_linreg(xx, yy, coefs)\n",
    "print(optimized_one_step_coefs)"
   ]
  },
  {
   "cell_type": "code",
   "execution_count": null,
   "id": "bcfea93e-67b0-4c47-8e58-cef68f780ba6",
   "metadata": {},
   "outputs": [],
   "source": [
    "plt.figure(figsize=(10, 5))\n",
    "plot_data(xx, coefs[0] + xx * coefs[1], color=\"red\", label=\"old prediction\", s=10)\n",
    "plot_data(xx, optimized_one_step_coefs[0] + xx * optimized_one_step_coefs[1], \n",
    "          color=\"green\", label=\"new prediction\", s=10)\n",
    "plot_data(xx, yy, color=\"blue\")\n",
    "plt.legend()"
   ]
  },
  {
   "cell_type": "markdown",
   "id": "e57868c2-bc8f-4f3b-9cbd-fca90b18909c",
   "metadata": {},
   "source": [
    "Now we can do our optimization!"
   ]
  },
  {
   "cell_type": "code",
   "execution_count": null,
   "id": "56ce4d2c-c0df-43c0-a988-15ddac86c7da",
   "metadata": {},
   "outputs": [],
   "source": [
    "def linear_regression(xx, yy, step_size=0.01):\n",
    "    coefs = np.array([1.0, 1.0])\n",
    "    while True:\n",
    "        previous_coefs = coefs.copy()\n",
    "        coefs = update_coefs_linreg(xx, yy, coefs, step_size=step_size)\n",
    "        if all(previous_coefs == coefs):\n",
    "            break\n",
    "    return coefs"
   ]
  },
  {
   "cell_type": "code",
   "execution_count": null,
   "id": "04a49aa2-cdb3-4787-ac32-b11bd39b239f",
   "metadata": {},
   "outputs": [],
   "source": [
    "# We will skip this\n",
    "def normalize(xx, yy):\n",
    "    m_x, m_y = xx.mean(), yy.mean()\n",
    "    s_x, s_y = xx.std(), yy.std()\n",
    "    return (xx - m_x)/s_x, (yy - m_y)/s_y, m_x, m_y, s_x, s_y\n",
    "\n",
    "def linear_regression(xx, yy, step_size=0.01):\n",
    "    xx, yy, m_x, m_y, s_x, s_y = normalize(xx, yy)\n",
    "    coefs = np.array([1.0, 1.0])\n",
    "    while True:\n",
    "        previous_coefs = coefs.copy()\n",
    "        coefs = update_coefs_linreg(xx, yy, coefs, step_size=step_size)\n",
    "        if all(previous_coefs == coefs):\n",
    "            break\n",
    "    b = m_y + s_y*coefs[0] - s_y/s_x * coefs[1] * m_x\n",
    "    k = s_y/s_x * coefs[1]\n",
    "    coefs = [b, k]    \n",
    "    return coefs"
   ]
  },
  {
   "cell_type": "code",
   "execution_count": null,
   "id": "3e5818b7-54ea-4736-ae84-1c0730c32c1a",
   "metadata": {},
   "outputs": [],
   "source": [
    "coefs = linear_regression(xx, yy, step_size=0.01)"
   ]
  },
  {
   "cell_type": "code",
   "execution_count": null,
   "id": "8328cf3f-dc6f-4408-a3f1-f561c37ea109",
   "metadata": {},
   "outputs": [],
   "source": [
    "plot_data(xx, yy)\n",
    "plot_data(xx, coefs[0] + coefs[1]*xx)"
   ]
  },
  {
   "cell_type": "markdown",
   "id": "b7a54b9a-72d7-4673-8dac-f3aaed55a954",
   "metadata": {},
   "source": [
    "# Classification"
   ]
  },
  {
   "cell_type": "markdown",
   "id": "7c3a4c27-7615-4ded-a8e0-3a3bd3f1f06e",
   "metadata": {},
   "source": [
    "## Logistic Regression"
   ]
  },
  {
   "cell_type": "code",
   "execution_count": null,
   "id": "b58c274f-4635-477d-951c-6d7a0419c51d",
   "metadata": {},
   "outputs": [],
   "source": [
    "def generate_data(rule, n_variables=2, size=100):\n",
    "    xx = np.random.uniform(low=0, high=100, size=(size, n_variables))\n",
    "    yy = []\n",
    "    for i in range(xx.shape[0]): # Number of observations\n",
    "        yy.append(rule(*xx[i, :])) # Apply rule function to all the features of ith observation\n",
    "    yy = np.array(yy).astype(float) # Convert to numpy array of type float\n",
    "    return xx, yy"
   ]
  },
  {
   "cell_type": "code",
   "execution_count": null,
   "id": "0b2a6678-b901-443e-b236-99349d643556",
   "metadata": {},
   "outputs": [],
   "source": [
    "xx, yy = generate_data(rule=lambda x1, x2: x1 < x2)\n",
    "plt.scatter(xx[:, 0], xx[:, 1], c=[\"red\" if y == 0 else \"green\" for y in yy])"
   ]
  },
  {
   "cell_type": "code",
   "execution_count": null,
   "id": "610d1349-50d4-42a1-a833-d40ed1c84866",
   "metadata": {},
   "outputs": [],
   "source": [
    "def plot_data(xx, yy):\n",
    "    plt.scatter(xx[:, 0], xx[:, 1], color=[\"green\" if y else \"red\" for y in yy])\n",
    "    plt.xlabel(\"X1\")\n",
    "    plt.ylabel(\"X2\")"
   ]
  },
  {
   "cell_type": "code",
   "execution_count": null,
   "id": "28c26216-63cc-4567-8779-5a115b7a79a5",
   "metadata": {},
   "outputs": [],
   "source": [
    "xx, yy = generate_data(rule=lambda x1, x2: (x1-50)*(x2-50) > 10, size=500)\n",
    "plot_data(xx, yy)"
   ]
  },
  {
   "cell_type": "code",
   "execution_count": null,
   "id": "4bf8dbb3-d00d-46dc-84a9-580af1b3d95f",
   "metadata": {},
   "outputs": [],
   "source": [
    "xx, yy = generate_data(rule=lambda x1, x2: (x1-50)**2 + (x2-50)**2 < 25**2, size=500)\n",
    "plot_data(xx, yy)"
   ]
  },
  {
   "cell_type": "code",
   "execution_count": null,
   "id": "9993da1b-0b00-4ba4-b2c3-2c6d32e22a8b",
   "metadata": {},
   "outputs": [],
   "source": [
    "xx, yy = generate_data(rule=lambda x1, x2: x2 > 100-x1, size=500)\n",
    "plot_data(xx, yy)"
   ]
  },
  {
   "cell_type": "code",
   "execution_count": null,
   "id": "e0d4395f-d382-497d-9299-ccbd2b226b16",
   "metadata": {},
   "outputs": [],
   "source": [
    "my_prediction_function = lambda x1, x2: x2 < x1 # Just a random prediction \n",
    "predictions = []\n",
    "for i in range(xx.shape[0]):\n",
    "    predictions.append(my_prediction_function(*xx[i]))\n",
    "predictions = np.array(predictions).astype(float)\n",
    "plot_data(xx, predictions)"
   ]
  },
  {
   "cell_type": "markdown",
   "id": "7db5d208-b622-4d3f-9de1-649daf681f7e",
   "metadata": {},
   "source": [
    "|yy |prediction|yy-prediction|(yy-prediction)^2|\n",
    "|---|----------|-------------|-----------------|\n",
    "|0|0|0|0|\n",
    "|0|1|-1|1|\n",
    "|1|0|1|1|\n",
    "|1|1|0|0|"
   ]
  },
  {
   "cell_type": "code",
   "execution_count": null,
   "id": "373ae584-3791-4581-932b-6b03cc930d7c",
   "metadata": {},
   "outputs": [],
   "source": [
    "def cost(truth, prediction):\n",
    "    return ((truth-prediction)**2).sum()"
   ]
  },
  {
   "cell_type": "code",
   "execution_count": null,
   "id": "f1c83728-5fbc-435d-ac95-3ed303000808",
   "metadata": {},
   "outputs": [],
   "source": [
    "cost(yy, predictions)"
   ]
  },
  {
   "cell_type": "code",
   "execution_count": null,
   "id": "8b3232d4-1912-4170-952d-de37192ad0b7",
   "metadata": {},
   "outputs": [],
   "source": [
    "cost(yy, yy)"
   ]
  },
  {
   "cell_type": "code",
   "execution_count": null,
   "id": "65a9edd7-40fd-41db-a602-10e638ec4ad9",
   "metadata": {},
   "outputs": [],
   "source": [
    "cost(yy, (~yy.astype(bool)).astype(float))"
   ]
  },
  {
   "cell_type": "markdown",
   "id": "b370dec5-cca5-4135-887c-85c442e9e6bd",
   "metadata": {},
   "source": [
    "Now how to make predictions? I could make similar guesses over and over again, but an automated way would be preferrable..."
   ]
  },
  {
   "cell_type": "markdown",
   "id": "9247cd03-2b1a-4f9f-a6bd-4b7cfefa4c6c",
   "metadata": {},
   "source": [
    "## Logistic regression"
   ]
  },
  {
   "cell_type": "code",
   "execution_count": null,
   "id": "6d2de845-b2a0-4df3-97fb-57db2dea9e1c",
   "metadata": {},
   "outputs": [],
   "source": [
    "def logistic_function(x):\n",
    "    return np.exp(x)/(1+np.exp(x))\n",
    "\n",
    "sample_x = np.arange(-10, 10, 0.1)\n",
    "sample_y = logistic_function(sample_x)\n",
    "plt.plot(sample_x, sample_y)\n",
    "plt.show()"
   ]
  },
  {
   "cell_type": "markdown",
   "id": "c69fcf32-f201-47fe-a10b-888dbd3c951a",
   "metadata": {},
   "source": [
    "$y = b + w_1*x_1 + w_2*x_2 + ... w_n*x_n$ (Linear regression) <br>\n",
    "$y$ is from $-\\infty$ to $\\infty$ <br>\n",
    "$y = logit(b + w_1*x_1 + w_2*x_2 + ... w_n*x_n)$ (Logistic regression) <br>\n",
    "$y$ is from $0$ to $1$ <br>\n"
   ]
  },
  {
   "cell_type": "markdown",
   "id": "d76b7ded-4ef5-43f8-82f7-50bd01796756",
   "metadata": {},
   "source": [
    "Let's imagine what it will look like for only two variables ($x_1$ and $x_2$) and $b=0, w_1=1, w_2=1$ <br>\n",
    "When $x1$ and $x2$ are both large, we have a logit of a large number which is equal to 1 (upper right corner).\n",
    "When $x1$ and $x2$ are both small, we have a logit of a small number which is equal to 0 (lower left corner)."
   ]
  },
  {
   "cell_type": "code",
   "execution_count": null,
   "id": "23245d1e-d243-463a-aca6-73818284afcc",
   "metadata": {},
   "outputs": [],
   "source": [
    "coefs = np.array([1, 1])\n",
    "plot_data(xx, logistic_function(0 + xx@coefs).round())"
   ]
  },
  {
   "cell_type": "markdown",
   "id": "5e6c0765-ba4e-4732-9b16-9728499836b2",
   "metadata": {},
   "source": [
    "Everything is equal to 1 because we are effectively in the upper right corner. If we normalize the data to center it around 0, we will get what we expected before."
   ]
  },
  {
   "cell_type": "code",
   "execution_count": null,
   "id": "0bdc8e3c-8618-4cda-97b5-6b9bb6e07915",
   "metadata": {},
   "outputs": [],
   "source": [
    "def normalize_features(features, return_mean_sd=False):\n",
    "    means = features.mean(axis=0)\n",
    "    sds = features.std(axis=0)\n",
    "    return (features - means)/sds"
   ]
  },
  {
   "cell_type": "code",
   "execution_count": null,
   "id": "da323c39-f333-4595-b18e-10f67b68d9cc",
   "metadata": {},
   "outputs": [],
   "source": [
    "coefs = np.array([1, 1])\n",
    "plot_data(normalize_features(xx), logistic_function(0 + normalize_features(xx)@coefs).round())"
   ]
  },
  {
   "cell_type": "markdown",
   "id": "017a1f22-bf0a-4887-89c2-b2af3b024700",
   "metadata": {},
   "source": [
    "$b$ coefficient moves the line up/down"
   ]
  },
  {
   "cell_type": "code",
   "execution_count": null,
   "id": "f75b8d07-278f-4052-9f69-fb648972a911",
   "metadata": {},
   "outputs": [],
   "source": [
    "coefs = np.array([1, 1])\n",
    "plot_data(normalize_features(xx), logistic_function(2 + normalize_features(xx)@coefs).round()) # b=2"
   ]
  },
  {
   "cell_type": "markdown",
   "id": "7139675d-9b61-447e-92fc-6660828fa3ce",
   "metadata": {},
   "source": [
    "Changing the coefficients changes the inclination of the separation line."
   ]
  },
  {
   "cell_type": "code",
   "execution_count": null,
   "id": "990d4dba-3ce2-4e74-8980-1358e29567a8",
   "metadata": {},
   "outputs": [],
   "source": [
    "coefs = np.array([5, 1])\n",
    "plot_data(normalize_features(xx), logistic_function(0 + normalize_features(xx)@coefs).round()) "
   ]
  },
  {
   "cell_type": "markdown",
   "id": "851bbc14-6ebc-49d6-afb8-99370b920137",
   "metadata": {},
   "source": [
    "Finally, if you want the exact solution... <br>\n",
    "The separation line is the one where the weighted sum of the variables is equal to 0 and the logit of is equal to 0 <br><br>\n",
    "$b + w_1x_1 + w_2x_2 = 0$ <br> \n",
    "$w_2x_2 = -b - w_1x_1$ <br>\n",
    "$x_2 = -\\frac{b}{w_2} - \\frac{w_1}{w_2}x_1$  <br><br>\n",
    "This is the equation of the separation line. You can see that it's intercept with $0$ is equal to $-\\frac{b}{w_2}$ and its inclination is $-\\frac{w_1}{w_2}$"
   ]
  },
  {
   "cell_type": "markdown",
   "id": "3b624ec9-eea4-45ac-9293-7482ae5e623f",
   "metadata": {},
   "source": [
    "..."
   ]
  },
  {
   "cell_type": "markdown",
   "id": "37ea771a-6d87-4bb3-b962-94f99460c2d5",
   "metadata": {},
   "source": [
    "Okay, what we got now is a way to encode a separation line with n+1 parameters (n for the number of features and + 1 for b) <br>\n",
    "We can also score any particular separation line with our cost function <br>"
   ]
  },
  {
   "cell_type": "code",
   "execution_count": null,
   "id": "b8ab0a75-f087-46c5-b070-9255e73c904e",
   "metadata": {},
   "outputs": [],
   "source": [
    "def score_separation_line(xx, yy_true, coefs):\n",
    "    return cost(logistic_function(xx@coefs), yy_true)"
   ]
  },
  {
   "cell_type": "markdown",
   "id": "f69f30e3-bc8e-4ae7-b050-72f476029e0a",
   "metadata": {},
   "source": [
    "Notice that here we do not have a b coefficient. That is because it is included in coefs: our coefs will be in a form <br>\n",
    "$[b, w1, w2]$ <br>\n",
    "That means that xx that we pass to the function will have the following shape: <br>\n",
    "$[1, x_{11}, x_{12}]$<br>\n",
    "$[1, x_{21}, x_{22}]$ <br>\n",
    "...<br>\n",
    "$[1, x_{m1}, x_{m2}]$ <br>\n"
   ]
  },
  {
   "cell_type": "markdown",
   "id": "5044b602-c9ed-40eb-8841-14eee31fc13b",
   "metadata": {},
   "source": [
    "So, the only thing we have to do now is to come up with a way to propose a separation line that is better than the current separation line <br>\n",
    "Then we will be able to start with a random separation line and by iterative improvement get the best separation line possible! "
   ]
  },
  {
   "cell_type": "markdown",
   "id": "33053f46-8abe-41c0-bd42-e4e31fce2a87",
   "metadata": {},
   "source": [
    "We will employ the same strategy as above."
   ]
  },
  {
   "cell_type": "code",
   "execution_count": null,
   "id": "a2f0997d-1d23-498d-98bd-6af4194f8922",
   "metadata": {},
   "outputs": [],
   "source": [
    "def update_coefs_logreg(xx, coefs, yy_true, step_size=0.001):\n",
    "    new_coefs = coefs[:] # Initialize the new coefficients with the values of old coefficients, then we will change them a little.\n",
    "    for i in range(len(coefs)): # Try changing each of the coefficients a little\n",
    "        delta = np.zeros(len(coefs)) \n",
    "        delta[i] = step_size # Changing ith coefficient by 'step_size'\n",
    "        if score_separation_line(xx, yy_true, coefs+delta) < score_separation_line(xx, yy_true, coefs): # If adding delta to i-th coefficient makes the line better\n",
    "            new_coefs += delta # Add this delta\n",
    "            break # And end this optimization step\n",
    "        elif score_separation_line(xx, yy_true, coefs-delta) < score_separation_line(xx, yy_true, coefs): # If subtracting delta to i-th coefficient makes the line better\n",
    "            new_coefs -= delta # Subtract this delta\n",
    "            break # And end this optimization step\n",
    "    return new_coefs"
   ]
  },
  {
   "cell_type": "code",
   "execution_count": null,
   "id": "accade8e-0baf-43dd-b0a9-d0cd14b6971d",
   "metadata": {},
   "outputs": [],
   "source": [
    "coefs = np.array([1.0, 1.0, 1.0])\n",
    "yy_true = yy\n",
    "xx_with_ones = np.hstack([np.ones_like(yy).reshape(len(yy), 1), xx])\n",
    "update_coefs_logreg(xx_with_ones, coefs, yy_true)"
   ]
  },
  {
   "cell_type": "markdown",
   "id": "eebe7105-5e8e-4b8c-b307-4bade10963c1",
   "metadata": {},
   "source": [
    "And we do the optimization as before"
   ]
  },
  {
   "cell_type": "code",
   "execution_count": null,
   "id": "49f6beb5-53af-48d8-b66e-5e8b90daf139",
   "metadata": {},
   "outputs": [],
   "source": [
    "def logistic_regression(xx, yy, step_size=0.001):\n",
    "    # Normalization helps, if you want to know why, we can discuss\n",
    "    means = xx.mean(axis=0)\n",
    "    sds = xx.std(axis=0)\n",
    "    xx_normalized = (xx - means)/sds\n",
    "    \n",
    "    xx_with_ones = np.hstack((np.ones_like(yy).reshape(len(yy), 1), xx_normalized))\n",
    "    coefs = np.array([1.0]*xx_with_ones.shape[1]) # [1.0, 1.0, 1.0]\n",
    "    while True:\n",
    "        previous_coefs = coefs.copy()\n",
    "        coefs = update_coefs_logreg(xx_with_ones, coefs, yy, step_size=step_size)\n",
    "        if all(previous_coefs == coefs):\n",
    "            break\n",
    "            \n",
    "    # We got the coefs, but they only work for the \"normalized space\". We have to translate them to the initial space.\n",
    "    b = coefs[0] - (coefs[1:]*means/sds).sum()\n",
    "    ws = list(coefs[1:]/sds)\n",
    "    coefs = np.array([b] + ws)\n",
    "    return coefs"
   ]
  },
  {
   "cell_type": "code",
   "execution_count": null,
   "id": "902cef9e-208d-4395-ae7e-85122d99fac7",
   "metadata": {},
   "outputs": [],
   "source": [
    "coefs = logistic_regression(xx, yy, step_size=0.1)"
   ]
  },
  {
   "cell_type": "code",
   "execution_count": null,
   "id": "100f042c-a47a-4cc9-ab64-3c134fec7ecd",
   "metadata": {},
   "outputs": [],
   "source": [
    "b, w1, w2 = coefs\n",
    "xx_for_line = np.linspace(xx[:, 0].min(), xx[:, 1].max(), 10)\n",
    "yy_for_line = -b/w2 - w1/w2 * xx_for_line\n",
    "plt.plot(xx_for_line, yy_for_line)\n",
    "plot_data(xx, yy)"
   ]
  },
  {
   "cell_type": "code",
   "execution_count": null,
   "id": "e0cdf797-d4b7-4565-bc84-c3c008692255",
   "metadata": {},
   "outputs": [],
   "source": [
    "def plot_splitting_line(coefs, xx):\n",
    "    xx_for_line = np.array([xx[:, 0].min(), xx[:, 0].max()])\n",
    "    b, w1, w2 = coefs\n",
    "    yy_for_line = -b/w2 - w1/w2 * xx_for_line\n",
    "    plt.plot(xx_for_line, yy_for_line)\n",
    "\n",
    "    # Making the plot pretiter, don't worry about it\n",
    "    mx, mn = xx[:, 1].max(), xx[:, 1].min()\n",
    "    rng = mx-mn \n",
    "    plt.ylim(mn-0.1*rng, mx+0.1*rng)"
   ]
  },
  {
   "cell_type": "code",
   "execution_count": null,
   "id": "f980f6bd-44a8-446a-8a2a-3fcc2b8d7001",
   "metadata": {},
   "outputs": [],
   "source": [
    "plot_data(xx, yy)\n",
    "plot_splitting_line(coefs, xx)"
   ]
  },
  {
   "cell_type": "code",
   "execution_count": null,
   "id": "ddf207d0-e50e-4fc9-9d3d-22cdb37cd3a0",
   "metadata": {},
   "outputs": [],
   "source": [
    "xx, yy = generate_data(n_variables=2, size=300, rule=lambda x1, x2: x1 - 3*x2 + 1 > 0)\n",
    "plot_data(xx, yy)\n",
    "coefs = logistic_regression(xx, yy, step_size=0.1)\n",
    "plot_splitting_line(coefs, xx)"
   ]
  },
  {
   "cell_type": "code",
   "execution_count": null,
   "id": "ece591b6",
   "metadata": {},
   "outputs": [],
   "source": [
    "xx, yy = generate_data(n_variables=2, size=200, rule=lambda x1, x2: (x1-10)**2+(x2-10)**2 < 25**2)\n",
    "plot_data(xx, yy)"
   ]
  },
  {
   "cell_type": "code",
   "execution_count": null,
   "id": "c8f9a357-7405-4666-8cf1-1b9df7ed1478",
   "metadata": {},
   "outputs": [],
   "source": [
    "coefs = logistic_regression(xx, yy, step_size=0.01)\n",
    "print(coefs)"
   ]
  },
  {
   "cell_type": "code",
   "execution_count": null,
   "id": "531309f5",
   "metadata": {},
   "outputs": [],
   "source": [
    "plot_data(xx, yy)\n",
    "plot_splitting_line(coefs, xx)"
   ]
  },
  {
   "cell_type": "markdown",
   "id": "6f1d1d2c-50af-4098-9304-5c7d8293d26d",
   "metadata": {},
   "source": [
    "# Examples with real data"
   ]
  },
  {
   "cell_type": "code",
   "execution_count": null,
   "id": "32f2867e-0bb6-44b4-96ba-cc3608759b08",
   "metadata": {},
   "outputs": [],
   "source": [
    "import seaborn as sns\n",
    "\n",
    "iris = sns.load_dataset('iris')\n",
    "iris"
   ]
  },
  {
   "cell_type": "code",
   "execution_count": null,
   "id": "bf27b99b-6597-4c72-9335-1e5516c257b4",
   "metadata": {},
   "outputs": [],
   "source": [
    "xx = iris.sepal_length\n",
    "yy = iris.sepal_width"
   ]
  },
  {
   "cell_type": "code",
   "execution_count": null,
   "id": "75c2dcb4-486f-410c-9b38-843ba9fc3c54",
   "metadata": {},
   "outputs": [],
   "source": [
    "plt.scatter(xx, yy)"
   ]
  },
  {
   "cell_type": "code",
   "execution_count": null,
   "id": "bddfe10e-0c8e-4105-b118-3cda7a417483",
   "metadata": {},
   "outputs": [],
   "source": [
    "setosas = iris.loc[iris.species == \"setosa\"]\n",
    "xx = setosas.sepal_length\n",
    "yy = setosas.sepal_width\n",
    "plt.scatter(xx, yy)\n",
    "plt.xlabel(\"Sepal length\")\n",
    "plt.ylabel(\"Sepal width\")"
   ]
  },
  {
   "cell_type": "code",
   "execution_count": null,
   "id": "9bbf5de9-df44-42d9-83a7-611670c1bc44",
   "metadata": {},
   "outputs": [],
   "source": [
    "coefs = linear_regression(xx, yy)"
   ]
  },
  {
   "cell_type": "code",
   "execution_count": null,
   "id": "6ed5b8d5-f59a-42c2-bf83-58d654461928",
   "metadata": {},
   "outputs": [],
   "source": [
    "plt.scatter(xx, yy, color=\"blue\")\n",
    "plt.scatter(xx, coefs[0] + xx*coefs[1], color=\"green\")\n",
    "plt.xlabel(\"Sepal length\")\n",
    "plt.ylabel(\"Sepal width\")"
   ]
  },
  {
   "cell_type": "code",
   "execution_count": null,
   "id": "b6798426-a8da-425c-aa5b-2b37cdc32a48",
   "metadata": {},
   "outputs": [],
   "source": [
    "def predict_sepal_width_from_sepal_length(sepal_length, coefs):\n",
    "    #TOREMOVE\n",
    "    return coefs[0] + coefs[1]*sepal_length "
   ]
  },
  {
   "cell_type": "code",
   "execution_count": null,
   "id": "1cd76dac-a0c4-4bbc-ac42-b60bcb56615d",
   "metadata": {},
   "outputs": [],
   "source": [
    "xx = iris.iloc[:, :2].to_numpy()\n",
    "yy = (iris.species == \"setosa\").astype(float).to_numpy()\n",
    "plot_data(xx, yy)\n",
    "coefs = logistic_regression(xx, yy, step_size=0.01)\n",
    "plot_splitting_line(coefs, xx)"
   ]
  },
  {
   "cell_type": "code",
   "execution_count": null,
   "id": "6f738c26-2ef0-46fe-8bfe-94fc83505697",
   "metadata": {},
   "outputs": [],
   "source": [
    "def predict(val, coefs):\n",
    "    #TOREMOVE\n",
    "    val = np.array([1] + list(val))\n",
    "    logistic_function_result = logistic_function(val @ coefs)\n",
    "    return \"green\" if logistic_function_result > 0.5 else \"red\""
   ]
  },
  {
   "cell_type": "code",
   "execution_count": null,
   "id": "e1d36cf6-ee19-4637-8c57-7f1bafaeeb31",
   "metadata": {},
   "outputs": [],
   "source": [
    "print(predict([3.5, 3.0], coefs))\n",
    "print(predict([6.5, 3.0], coefs))"
   ]
  },
  {
   "cell_type": "code",
   "execution_count": null,
   "id": "ea8998cd-3b54-4362-a291-6cc543ba2b09",
   "metadata": {},
   "outputs": [],
   "source": []
  }
 ],
 "metadata": {
  "kernelspec": {
   "display_name": "Python 3 (ipykernel)",
   "language": "python",
   "name": "python3"
  },
  "language_info": {
   "codemirror_mode": {
    "name": "ipython",
    "version": 3
   },
   "file_extension": ".py",
   "mimetype": "text/x-python",
   "name": "python",
   "nbconvert_exporter": "python",
   "pygments_lexer": "ipython3",
   "version": "3.11.0rc1"
  }
 },
 "nbformat": 4,
 "nbformat_minor": 5
}
