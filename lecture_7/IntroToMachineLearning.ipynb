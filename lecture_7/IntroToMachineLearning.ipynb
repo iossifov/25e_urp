{
 "cells": [
  {
   "cell_type": "code",
   "execution_count": null,
   "id": "1012195c",
   "metadata": {},
   "outputs": [],
   "source": [
    "import matplotlib.pyplot as plt\n",
    "import numpy as np"
   ]
  },
  {
   "cell_type": "markdown",
   "id": "616b1482-ba04-4128-9bda-d28cb5f6780c",
   "metadata": {},
   "source": [
    "# Regression"
   ]
  },
  {
   "cell_type": "markdown",
   "id": "a20cc7f5-9c93-4e60-aed0-84ff1cd5a1ac",
   "metadata": {},
   "source": [
    "## Linear Regression"
   ]
  },
  {
   "cell_type": "code",
   "execution_count": null,
   "id": "e3c69657-2586-4add-befb-ed275d788f9f",
   "metadata": {},
   "outputs": [],
   "source": [
    "def generate_data_reg(rule, size=100, noise_std=1):\n",
    "    xx = np.random.uniform(low=0, high=100, size=size)\n",
    "    noise = np.random.normal(0, noise_std, size=size)\n",
    "    yy = rule(xx) + noise\n",
    "    return xx, yy"
   ]
  },
  {
   "cell_type": "code",
   "execution_count": null,
   "id": "4f6cc4d2-e565-4ebc-a591-c85ddea7ec21",
   "metadata": {},
   "outputs": [],
   "source": [
    "xx, yy = generate_data_reg(rule=lambda x: 10 + 0.5*x, noise_std=10)\n",
    "plt.scatter(xx, yy)"
   ]
  },
  {
   "cell_type": "code",
   "execution_count": null,
   "id": "1bb0b5fb-34ad-4bb4-9ef1-65675cad110b",
   "metadata": {},
   "outputs": [],
   "source": [
    "def plot_data(xx, yy, **kwargs):\n",
    "    plt.scatter(xx, yy, **kwargs)\n",
    "    plt.xlabel(\"X\")\n",
    "    plt.ylabel(\"Y\")\n"
   ]
  },
  {
   "cell_type": "code",
   "execution_count": null,
   "id": "1edda31b-4f75-4d16-b8f3-6c0f2e492f48",
   "metadata": {},
   "outputs": [],
   "source": [
    "plot_data(xx, yy)"
   ]
  },
  {
   "cell_type": "code",
   "execution_count": null,
   "id": "6fa3ca1c-d02a-42e7-8c8b-f3bbe79e9a3d",
   "metadata": {},
   "outputs": [],
   "source": [
    "xx, yy = generate_data_reg(rule=lambda x: 10 + x**2, noise_std=1000)\n",
    "plot_data(xx, yy)"
   ]
  },
  {
   "cell_type": "code",
   "execution_count": null,
   "id": "1556c8c2-cc1b-4b20-b9cf-8b7aff0732db",
   "metadata": {},
   "outputs": [],
   "source": [
    "xx, yy = generate_data_reg(rule=lambda x: 10 + 0.5*x, noise_std=10)"
   ]
  },
  {
   "cell_type": "markdown",
   "id": "e9696296-be7c-41b7-a17c-2f375bd36d7c",
   "metadata": {},
   "source": [
    "### General workflow"
   ]
  },
  {
   "cell_type": "markdown",
   "id": "97f724aa-635a-46ae-976e-94368e9d4e64",
   "metadata": {},
   "source": [
    "Make prediction -> Compare with ground truth -> Make a slightly better prediction <br>"
   ]
  },
  {
   "cell_type": "markdown",
   "id": "e6772386-7349-4ec5-9973-1cebde9d7157",
   "metadata": {},
   "source": [
    "Let's make a prediction!"
   ]
  },
  {
   "cell_type": "code",
   "execution_count": null,
   "id": "ba275dc3-eb7e-4489-8a39-46c656a1e357",
   "metadata": {},
   "outputs": [],
   "source": [
    "coefs = [10, -1] # Random prediction\n",
    "plot_data(xx, coefs[0] + xx*coefs[1], color=\"red\")\n",
    "plot_data(xx, yy, color=\"blue\")"
   ]
  },
  {
   "cell_type": "markdown",
   "id": "0d295287-7323-4c00-98ec-25ea6dba7912",
   "metadata": {},
   "source": [
    "How do we evaluate this prediction? We need to construct a cost function."
   ]
  },
  {
   "cell_type": "code",
   "execution_count": null,
   "id": "3dd0f406-f3fc-4b03-b0e2-2136ad13f4c9",
   "metadata": {},
   "outputs": [],
   "source": [
    "#TOREMOVE\n",
    "def cost_reg(truth, prediction):\n",
    "    return ((truth-prediction)**2)"
   ]
  },
  {
   "cell_type": "code",
   "execution_count": null,
   "id": "891d6075-30d3-4ec2-b1b9-b558095f4ed1",
   "metadata": {},
   "outputs": [],
   "source": [
    "# def cost_reg(truth, prediction):\n",
    "    ### What would be a reasonable cost function?"
   ]
  },
  {
   "cell_type": "code",
   "execution_count": null,
   "id": "c1459392-4c62-4e64-aa6e-f30610ed10fa",
   "metadata": {},
   "outputs": [],
   "source": [
    "## Let's check that this cost function makes sense"
   ]
  },
  {
   "cell_type": "code",
   "execution_count": null,
   "id": "211941c9-bfb0-4549-a72f-aab9d17d8781",
   "metadata": {},
   "outputs": [],
   "source": [
    "def score_prediction(xx, yy_true, coefs):\n",
    "    \"\"\"\n",
    "    Returns the cost function associated with given coefficients.\n",
    "    coefs is a list of two values - [intercept, slope].\n",
    "    \"\"\"\n",
    "    ### That should be easy.\n",
    "    #TOREMOVE\n",
    "    return cost_reg(yy_true, coefs[0] + xx*coefs[1]).sum()"
   ]
  },
  {
   "cell_type": "markdown",
   "id": "dca7f1f0-3edd-4930-a086-3661fded0d32",
   "metadata": {},
   "source": [
    "Okay, we have a cost function that will allow us to evaluate any given prediction. Now we need some way to make a better prediction using this cost function. "
   ]
  },
  {
   "cell_type": "markdown",
   "id": "1af949ed-42a4-4c9f-bbbf-0456f71841de",
   "metadata": {},
   "source": [
    "Our strategy will be the following: <br>\n",
    "- Try changing each of the coefficients a little.\n",
    "- As soon as we stumble upon a beneficial change (that makes the regression line better), we accept the new regression line.\n",
    "This is not the most efficient strategy (and definitely not the one they really use in application) but it's simple and it works for this simple task!"
   ]
  },
  {
   "cell_type": "code",
   "execution_count": null,
   "id": "66ac243e-db77-44a0-8579-14eba8c74e8b",
   "metadata": {},
   "outputs": [],
   "source": [
    "def update_coefs_linreg(xx, yy_true, coefs, step_size=0.01):\n",
    "    new_coefs = coefs[:] # Initialize the new coefficients with the values of old coefficients, then we will change them a little.\n",
    "\n",
    "    # This is just switch between the coefficients when updating\n",
    "    ii = np.arange(len(coefs))\n",
    "    np.random.shuffle(ii)\n",
    "    \n",
    "    for i in ii: # Try changing each of the coefficients a little\n",
    "        \n",
    "        delta = np.zeros(len(coefs)) \n",
    "        delta[i] = step_size # Changing ith coefficient by 'step_size'\n",
    "        \n",
    "        # If adding delta to i-th coefficient makes the line better\n",
    "        if score_prediction(xx, yy_true, coefs+delta) < score_prediction(xx, yy_true, coefs): \n",
    "            new_coefs += delta # Add this delta\n",
    "            break # And end this optimization step\n",
    "        # If subtracting delta to i-th coefficient makes the line better\n",
    "        elif score_prediction(xx, yy_true, coefs-delta) < score_prediction(xx, yy_true, coefs): \n",
    "            new_coefs -= delta # Subtract this delta\n",
    "            break # And end this optimization step\n",
    "    return new_coefs"
   ]
  },
  {
   "cell_type": "code",
   "execution_count": null,
   "id": "5037204b-3988-4f98-b3d8-131ef3716f23",
   "metadata": {},
   "outputs": [],
   "source": [
    "coefs = [10, -1]\n",
    "optimized_one_step_coefs = update_coefs_linreg(xx, yy, coefs)\n",
    "print(optimized_one_step_coefs)"
   ]
  },
  {
   "cell_type": "code",
   "execution_count": null,
   "id": "bcfea93e-67b0-4c47-8e58-cef68f780ba6",
   "metadata": {},
   "outputs": [],
   "source": [
    "plt.figure(figsize=(10, 5))\n",
    "plot_data(xx, coefs[0] + xx * coefs[1], color=\"red\", label=\"old prediction\", s=10)\n",
    "plot_data(xx, optimized_one_step_coefs[0] + xx * optimized_one_step_coefs[1], \n",
    "          color=\"green\", label=\"new prediction\", s=10)\n",
    "plot_data(xx, yy, color=\"blue\")\n",
    "plt.legend()"
   ]
  },
  {
   "cell_type": "markdown",
   "id": "e57868c2-bc8f-4f3b-9cbd-fca90b18909c",
   "metadata": {},
   "source": [
    "Now we can do our optimization!"
   ]
  },
  {
   "cell_type": "code",
   "execution_count": null,
   "id": "56ce4d2c-c0df-43c0-a988-15ddac86c7da",
   "metadata": {},
   "outputs": [],
   "source": [
    "def linear_regression(xx, yy, step_size=0.01):\n",
    "    coefs = np.array([1.0, 1.0])\n",
    "    while True:\n",
    "        previous_coefs = coefs.copy()\n",
    "        coefs = update_coefs_linreg(xx, yy, coefs, step_size=step_size)\n",
    "        print(coefs, score_prediction(xx, yy, coefs))\n",
    "        if all(previous_coefs == coefs):\n",
    "            break\n",
    "    return coefs"
   ]
  },
  {
   "cell_type": "code",
   "execution_count": null,
   "id": "04a49aa2-cdb3-4787-ac32-b11bd39b239f",
   "metadata": {},
   "outputs": [],
   "source": [
    "# We will skip this\n",
    "def normalize_reg(xx, yy):\n",
    "    m_x, m_y = xx.mean(), yy.mean()\n",
    "    s_x, s_y = xx.std(), yy.std()\n",
    "    return (xx - m_x)/s_x, (yy - m_y)/s_y, m_x, m_y, s_x, s_y\n",
    "\n",
    "def linear_regression_normalized(xx, yy, step_size=0.01):\n",
    "    xx, yy, m_x, m_y, s_x, s_y = normalize_reg(xx, yy)\n",
    "    coefs = np.array([1.0, 1.0])\n",
    "    while True:\n",
    "        previous_coefs = coefs.copy()\n",
    "        coefs = update_coefs_linreg(xx, yy, coefs, step_size=step_size)\n",
    "        if all(previous_coefs == coefs):\n",
    "            break\n",
    "    b = m_y + s_y*coefs[0] - s_y/s_x * coefs[1] * m_x\n",
    "    k = s_y/s_x * coefs[1]\n",
    "    coefs = [b, k]    \n",
    "    return coefs"
   ]
  },
  {
   "cell_type": "code",
   "execution_count": null,
   "id": "3e5818b7-54ea-4736-ae84-1c0730c32c1a",
   "metadata": {
    "scrolled": true
   },
   "outputs": [],
   "source": [
    "coefs = linear_regression(xx, yy, step_size=0.01)"
   ]
  },
  {
   "cell_type": "code",
   "execution_count": null,
   "id": "8328cf3f-dc6f-4408-a3f1-f561c37ea109",
   "metadata": {},
   "outputs": [],
   "source": [
    "plot_data(xx, yy)\n",
    "plot_data(xx, coefs[0] + coefs[1]*xx)"
   ]
  },
  {
   "cell_type": "markdown",
   "id": "4cf5df8e-13b5-4dbf-9742-03e650df34b5",
   "metadata": {
    "jp-MarkdownHeadingCollapsed": true
   },
   "source": [
    "# Examples with real data"
   ]
  },
  {
   "cell_type": "code",
   "execution_count": null,
   "id": "6cc248fb-60d3-4ec0-8f80-a0ea4a27a05a",
   "metadata": {},
   "outputs": [],
   "source": [
    "import seaborn as sns\n",
    "\n",
    "iris = sns.load_dataset('iris')\n",
    "iris"
   ]
  },
  {
   "cell_type": "code",
   "execution_count": null,
   "id": "0b089cea-b3e9-46cb-bee0-21058fe46c32",
   "metadata": {},
   "outputs": [],
   "source": [
    "xx = iris.sepal_length\n",
    "yy = iris.sepal_width"
   ]
  },
  {
   "cell_type": "code",
   "execution_count": null,
   "id": "e86bfd9c-146c-4caf-8091-c56ccd6aa097",
   "metadata": {},
   "outputs": [],
   "source": [
    "plt.scatter(xx, yy)"
   ]
  },
  {
   "cell_type": "code",
   "execution_count": null,
   "id": "21c0ea2d-c229-4084-8ac3-7b98933f8b48",
   "metadata": {},
   "outputs": [],
   "source": [
    "setosas = iris.loc[iris.species == \"setosa\"]\n",
    "xx = setosas.sepal_length\n",
    "yy = setosas.sepal_width\n",
    "plt.scatter(xx, yy)\n",
    "plt.xlabel(\"Sepal length\")\n",
    "plt.ylabel(\"Sepal width\")"
   ]
  },
  {
   "cell_type": "code",
   "execution_count": null,
   "id": "fe102ff2-9e82-41d8-8850-9a26fa607a4e",
   "metadata": {
    "scrolled": true
   },
   "outputs": [],
   "source": [
    "coefs = linear_regression(xx, yy)"
   ]
  },
  {
   "cell_type": "code",
   "execution_count": null,
   "id": "00a08a5f-838f-43ad-a1c8-0a1ae2fbbc45",
   "metadata": {},
   "outputs": [],
   "source": [
    "plt.scatter(xx, yy, color=\"blue\")\n",
    "plt.scatter(xx, coefs[0] + xx*coefs[1], color=\"green\")\n",
    "plt.xlabel(\"Sepal length\")\n",
    "plt.ylabel(\"Sepal width\")"
   ]
  },
  {
   "cell_type": "code",
   "execution_count": null,
   "id": "33c9b6f5-b6d4-42cb-bc85-358a3306dd80",
   "metadata": {},
   "outputs": [],
   "source": [
    "def predict_sepal_width_from_sepal_length(sepal_length, coefs):\n",
    "    #TOREMOVE\n",
    "    return coefs[0] + coefs[1]*sepal_length "
   ]
  },
  {
   "cell_type": "markdown",
   "id": "b7a54b9a-72d7-4673-8dac-f3aaed55a954",
   "metadata": {},
   "source": [
    "# Classification"
   ]
  },
  {
   "cell_type": "code",
   "execution_count": null,
   "id": "b58c274f-4635-477d-951c-6d7a0419c51d",
   "metadata": {},
   "outputs": [],
   "source": [
    "def generate_data_cls(rule, n_variables=2, size=100):\n",
    "    xx = np.random.uniform(low=0, high=100, size=(size, n_variables))\n",
    "    yy = []\n",
    "    for i in range(xx.shape[0]): # Number of observations\n",
    "        yy.append(rule(*xx[i, :])) # Apply rule function to all the features of ith observation\n",
    "    yy = np.array(yy).astype(float) # Convert to numpy array of type float\n",
    "    return xx, yy"
   ]
  },
  {
   "cell_type": "code",
   "execution_count": null,
   "id": "0b2a6678-b901-443e-b236-99349d643556",
   "metadata": {},
   "outputs": [],
   "source": [
    "xx, yy = generate_data_cls(rule=lambda x1, x2: x1 < x2)\n",
    "plt.scatter(xx[:, 0], xx[:, 1], c=[\"red\" if y == 0 else \"green\" for y in yy])"
   ]
  },
  {
   "cell_type": "code",
   "execution_count": null,
   "id": "610d1349-50d4-42a1-a833-d40ed1c84866",
   "metadata": {},
   "outputs": [],
   "source": [
    "def plot_data(xx, yy):\n",
    "    plt.scatter(xx[:, 0], xx[:, 1], color=[\"green\" if y else \"red\" for y in yy])\n",
    "    plt.xlabel(\"X1\")\n",
    "    plt.ylabel(\"X2\")"
   ]
  },
  {
   "cell_type": "code",
   "execution_count": null,
   "id": "28c26216-63cc-4567-8779-5a115b7a79a5",
   "metadata": {},
   "outputs": [],
   "source": [
    "xx, yy = generate_data_cls(rule=lambda x1, x2: (x1-50)*(x2-50) > 10, size=500)\n",
    "plot_data(xx, yy)"
   ]
  },
  {
   "cell_type": "code",
   "execution_count": null,
   "id": "4bf8dbb3-d00d-46dc-84a9-580af1b3d95f",
   "metadata": {},
   "outputs": [],
   "source": [
    "xx, yy = generate_data_cls(rule=lambda x1, x2: (x1-50)**2 + (x2-50)**2 < 25**2, size=500)\n",
    "plot_data(xx, yy)"
   ]
  },
  {
   "cell_type": "code",
   "execution_count": null,
   "id": "9993da1b-0b00-4ba4-b2c3-2c6d32e22a8b",
   "metadata": {},
   "outputs": [],
   "source": [
    "xx, yy = generate_data_cls(rule=lambda x1, x2: x2 > 100-x1, size=500)\n",
    "plot_data(xx, yy)"
   ]
  },
  {
   "cell_type": "markdown",
   "id": "5ab0207a-8f08-4d50-8619-73de076e1762",
   "metadata": {},
   "source": [
    "## Logistic Regression"
   ]
  },
  {
   "cell_type": "markdown",
   "id": "fe08eee1-a70e-4c8f-8a23-010b8e053f58",
   "metadata": {},
   "source": [
    "General principle: we want to assign (?somehow?) a value to each point. If this value is, say, large, then the point is green, if it is small, then it is red. <br>\n",
    "Two questions: <br>\n",
    "- How to assign this value?\n",
    "- How to formalize the \"if large, green, if small, red\" principle?\n",
    "  \n",
    "Let's start from the end."
   ]
  },
  {
   "cell_type": "markdown",
   "id": "48d88a72-fb99-4964-83e5-141f90449fb5",
   "metadata": {},
   "source": [
    "### If large, green; if small, red."
   ]
  },
  {
   "cell_type": "markdown",
   "id": "d1a1d7a3-62ac-4ada-8bde-78494e90352c",
   "metadata": {},
   "source": [
    "This principle can be formalized with a logistic function that converts any number from $-\\infty$ to $+\\infty$ to a $[0, 1]$ range."
   ]
  },
  {
   "cell_type": "code",
   "execution_count": null,
   "id": "769051f4-1b4e-4d8a-80d5-751c6e4a5611",
   "metadata": {},
   "outputs": [],
   "source": [
    "def logistic_function(x):\n",
    "    return 1/(1+np.exp(-x))\n",
    "\n",
    "sample_x = np.arange(-10, 10, 0.1)\n",
    "sample_y = logistic_function(sample_x)\n",
    "plt.plot(sample_x, sample_y)\n",
    "plt.show()"
   ]
  },
  {
   "cell_type": "markdown",
   "id": "fc5f3e07-abe1-4192-adbb-089891931c49",
   "metadata": {},
   "source": [
    "So, whatever number our algorithm outputs for a certain point, we apply logistic function to it and the closer it is to 1 the more sure we are that the point should be green and the closer it is to 0, the more sure we are that the point should be red. <br>\n",
    "Notice that we are only able to do it because of the limited range. We can tell exactly how close 0.99 is to 1.0 but we cannot tell how close 10 is to $\\infty$"
   ]
  },
  {
   "cell_type": "markdown",
   "id": "58c08d2a-ba4a-4ab7-9225-518742ab9149",
   "metadata": {},
   "source": [
    "### Assigning value to each point"
   ]
  },
  {
   "cell_type": "markdown",
   "id": "9916bdd8-a01b-4d70-b2a5-34fee76995b9",
   "metadata": {},
   "source": [
    "There are many ways of doing that. And different ways correspond to different machine learning algorithms for classification. We are going to use the simplest one - logistic regression. In logistic regression each point is assigned a value equal to a linear combination of its coordinates."
   ]
  },
  {
   "cell_type": "code",
   "execution_count": null,
   "id": "fb534918-ffb8-4712-aaab-db159cb5cb98",
   "metadata": {},
   "outputs": [],
   "source": [
    "sample_point = [1, 1] # x1 = 1, x2 = 1\n",
    "b, w1, w2 = 10, 20, 30 \n",
    "assigned_value = b + sample_point[0] * w1 + sample_point[1] * w2 # b + x1*w1 + x2*w2\n",
    "print(assigned_value, logistic_function(assigned_value))"
   ]
  },
  {
   "cell_type": "markdown",
   "id": "e1dcbfbc-7b37-4ee3-af66-57cad565177c",
   "metadata": {},
   "source": [
    "So, what we need to do is to learn coefficients $b$, $w_1$ and $w_2$ what will make the best predictions on our dataset (predict something close to 0 when the point is red and close to 1.0 when the point is green). <br>"
   ]
  },
  {
   "cell_type": "code",
   "execution_count": null,
   "id": "c6613b21-599c-4ebb-b988-2b1e8d69cb90",
   "metadata": {},
   "outputs": [],
   "source": [
    "predictions = logistic_function(-1000 + xx @ np.array([10, 20]))\n",
    "plt.scatter(xx[:, 0], xx[:, 1], c=predictions, cmap=\"RdYlGn\")"
   ]
  },
  {
   "cell_type": "markdown",
   "id": "1f682ae5-2d4d-4273-811f-4ba83498f2d0",
   "metadata": {},
   "source": [
    "The separation line is the one where the weighted sum of the variables is equal to 0 and the logit of is equal to 0.5 <br><br>\n",
    "$b + w_1x_1 + w_2x_2 = 0$ <br> \n",
    "$w_2x_2 = -b - w_1x_1$ <br>\n",
    "$x_2 = -\\frac{b}{w_2} - \\frac{w_1}{w_2}x_1$  <br><br>\n",
    "This is the equation of the separation line. You can see that it's intercept with $0$ is equal to $-\\frac{b}{w_2}$ and its inclination is $-\\frac{w_1}{w_2}$"
   ]
  },
  {
   "cell_type": "markdown",
   "id": "253ccd1f-b9ac-4f71-ac09-20387bcf30f1",
   "metadata": {},
   "source": [
    "### Cost function"
   ]
  },
  {
   "cell_type": "markdown",
   "id": "f2569916-d4dc-46f3-9f58-f8519f079425",
   "metadata": {},
   "source": [
    "Cost: <br>\n",
    "$C = -(y*log(p) + (1-y)*log(1-p)$)"
   ]
  },
  {
   "cell_type": "markdown",
   "id": "f8e1414d-6898-4cc1-a4be-5ec69e8664ba",
   "metadata": {},
   "source": [
    "|yy |prediction|C|\n",
    "|---|----------|-------------|\n",
    "|0|->0|?|\n",
    "|0|->1|?|\n",
    "|1|->0|?|\n",
    "|1|->1|?|"
   ]
  },
  {
   "cell_type": "code",
   "execution_count": null,
   "id": "8f0efc65-a9d0-4fa2-b9aa-50f8cf8f8b2f",
   "metadata": {},
   "outputs": [],
   "source": [
    "def cost_cls(truth, prediction, eps=1e-15):\n",
    "    # Implement yourself\n",
    "    prediction = np.clip(prediction, eps, 1 - eps)\n",
    "    return -(truth * np.log(prediction) + (1-truth)*np.log(1-prediction))"
   ]
  },
  {
   "cell_type": "code",
   "execution_count": null,
   "id": "b8ab0a75-f087-46c5-b070-9255e73c904e",
   "metadata": {},
   "outputs": [],
   "source": [
    "def score_prediction_cls(xx, yy_true, coefs):\n",
    "    ones = np.ones_like(yy_true).reshape(len(yy_true), 1)\n",
    "    xx_with_ones = np.hstack([ones, xx])\n",
    "    return cost_reg(logistic_function(xx_with_ones@coefs), yy_true).sum()"
   ]
  },
  {
   "cell_type": "markdown",
   "id": "f69f30e3-bc8e-4ae7-b050-72f476029e0a",
   "metadata": {},
   "source": [
    "Notice that here we do not have a b coefficient. That is because it is included in coefs: our coefs will be in a form <br>\n",
    "$[b, w1, w2]$ <br>\n",
    "And inside the function we add a column of ones to xx so that it has the following shape: <br>\n",
    "$[1, x_{11}, x_{12}]$<br>\n",
    "$[1, x_{21}, x_{22}]$ <br>\n",
    "...<br>\n",
    "$[1, x_{m1}, x_{m2}]$ <br>\n"
   ]
  },
  {
   "cell_type": "markdown",
   "id": "899b8b6b-9054-4352-9731-7c1fffa63d5c",
   "metadata": {},
   "source": [
    "With matrix by vector multiplication it becomes $1*b + x_1*w_1 + x_2*w_2$ "
   ]
  },
  {
   "cell_type": "markdown",
   "id": "73735ff7-e238-4a3f-83e0-6ec7472e7e2e",
   "metadata": {},
   "source": [
    "## Updating coefficients"
   ]
  },
  {
   "cell_type": "markdown",
   "id": "5044b602-c9ed-40eb-8841-14eee31fc13b",
   "metadata": {},
   "source": [
    "So, the only thing we have to do now is to come up with a way to propose a prediction that is better than the current one. <br>\n",
    "Then we will be able to start with a random separation line and by iterative improvement get the best prediction possible! "
   ]
  },
  {
   "cell_type": "markdown",
   "id": "33053f46-8abe-41c0-bd42-e4e31fce2a87",
   "metadata": {},
   "source": [
    "We will employ the same algorithm as with linear regression."
   ]
  },
  {
   "cell_type": "code",
   "execution_count": null,
   "id": "a2f0997d-1d23-498d-98bd-6af4194f8922",
   "metadata": {},
   "outputs": [],
   "source": [
    "def update_coefs_logreg(xx, yy_true, coefs, step_size=0.001):\n",
    "    new_coefs = coefs[:] # Initialize the new coefficients with the values of old coefficients, then we will change them a little.\n",
    "\n",
    "    ii = np.arange(len(coefs))\n",
    "    # np.random.shuffle(ii)\n",
    "    for i in ii: # Try changing each of the coefficients a little\n",
    "        delta = np.zeros(len(coefs)) \n",
    "        delta[i] = step_size # Changing ith coefficient by 'step_size'\n",
    "        \n",
    "        # If adding delta to i-th coefficient makes the prediction better\n",
    "        if score_prediction_cls(xx, yy_true, coefs+delta) < score_prediction_cls(xx, yy_true, coefs): \n",
    "            new_coefs += delta # Add this delta\n",
    "            break # And end this optimization step\n",
    "        # If subtracting delta to i-th coefficient makes the prediction better\n",
    "        elif score_prediction_cls(xx, yy_true, coefs-delta) < score_prediction_cls(xx, yy_true, coefs): \n",
    "            new_coefs -= delta # Subtract this delta\n",
    "            break # And end this optimization step\n",
    "    return new_coefs"
   ]
  },
  {
   "cell_type": "code",
   "execution_count": null,
   "id": "accade8e-0baf-43dd-b0a9-d0cd14b6971d",
   "metadata": {},
   "outputs": [],
   "source": [
    "coefs = np.array([1.0, 1.0, 1.0])\n",
    "update_coefs_logreg(xx, yy, coefs)"
   ]
  },
  {
   "cell_type": "code",
   "execution_count": null,
   "id": "41efaaa8-b516-49eb-b5fe-1c6b16fff6dc",
   "metadata": {},
   "outputs": [],
   "source": [
    "predictions = logistic_function(1 + xx @ np.array([1, 1]))\n",
    "plt.scatter(xx[:, 0], xx[:, 1], c=predictions, cmap=\"RdYlGn\")"
   ]
  },
  {
   "cell_type": "markdown",
   "id": "eebe7105-5e8e-4b8c-b307-4bade10963c1",
   "metadata": {},
   "source": [
    "And we do the optimization as before"
   ]
  },
  {
   "cell_type": "code",
   "execution_count": null,
   "id": "49f6beb5-53af-48d8-b66e-5e8b90daf139",
   "metadata": {},
   "outputs": [],
   "source": [
    "def logistic_regression(xx, yy, step_size=0.01):\n",
    "    # Normalization helps, if you want to know why, we can discuss\n",
    "    means = xx.mean(axis=0)\n",
    "    sds = xx.std(axis=0)\n",
    "    xx_normalized = (xx - means)/sds\n",
    "    \n",
    "    coefs = np.array([1.0]*(xx.shape[1] + 1)) # [1.0, 1.0, 1.0]\n",
    "    n_steps = 0\n",
    "    while True:\n",
    "        previous_coefs = coefs.copy()\n",
    "        coefs = update_coefs_logreg(xx_normalized, yy, coefs, step_size=step_size)\n",
    "        if np.allclose(previous_coefs, coefs):\n",
    "            break\n",
    "        n_steps += 1\n",
    "    print(f\"finished in {n_steps} steps\")\n",
    "    \n",
    "    # We got the coefs, but they only work for the \"normalized space\". We have to translate them to the initial space.\n",
    "    b = coefs[0] - (coefs[1:]*means/sds).sum()\n",
    "    ws = list(coefs[1:]/sds)\n",
    "    coefs = np.array([b] + ws)\n",
    "    return coefs"
   ]
  },
  {
   "cell_type": "code",
   "execution_count": null,
   "id": "100f042c-a47a-4cc9-ab64-3c134fec7ecd",
   "metadata": {},
   "outputs": [],
   "source": [
    "coefs = logistic_regression(xx, yy, step_size=0.1)\n",
    "b, w1, w2 = coefs\n",
    "xx_for_line = np.linspace(xx[:, 0].min(), xx[:, 1].max(), 10)\n",
    "yy_for_line = -b/w2 - w1/w2 * xx_for_line\n",
    "plt.plot(xx_for_line, yy_for_line)\n",
    "plot_data(xx, yy)"
   ]
  },
  {
   "cell_type": "code",
   "execution_count": null,
   "id": "e0cdf797-d4b7-4565-bc84-c3c008692255",
   "metadata": {},
   "outputs": [],
   "source": [
    "def plot_splitting_line(coefs, xx):\n",
    "    xx_for_line = np.array([xx[:, 0].min(), xx[:, 0].max()])\n",
    "    b, w1, w2 = coefs\n",
    "    yy_for_line = -b/w2 - w1/w2 * xx_for_line\n",
    "    plt.plot(xx_for_line, yy_for_line)\n",
    "\n",
    "    # Making the plot pretiter, don't worry about it\n",
    "    mx, mn = xx[:, 1].max(), xx[:, 1].min()\n",
    "    rng = mx-mn \n",
    "    # plt.ylim(mn-0.1*rng, mx+0.1*rng)"
   ]
  },
  {
   "cell_type": "code",
   "execution_count": null,
   "id": "f980f6bd-44a8-446a-8a2a-3fcc2b8d7001",
   "metadata": {},
   "outputs": [],
   "source": [
    "plot_data(xx, yy)\n",
    "plot_splitting_line(coefs, xx)"
   ]
  },
  {
   "cell_type": "code",
   "execution_count": null,
   "id": "ddf207d0-e50e-4fc9-9d3d-22cdb37cd3a0",
   "metadata": {},
   "outputs": [],
   "source": [
    "xx, yy = generate_data_cls(n_variables=2, size=300, rule=lambda x1, x2: x1 - 3*x2 + 1 > 0)\n",
    "plot_data(xx, yy)\n",
    "coefs = logistic_regression(xx, yy, step_size=0.2)\n",
    "plot_splitting_line(coefs, xx)"
   ]
  },
  {
   "cell_type": "code",
   "execution_count": null,
   "id": "ece591b6",
   "metadata": {},
   "outputs": [],
   "source": [
    "xx, yy = generate_data_cls(n_variables=2, size=200, rule=lambda x1, x2: (x1-10)**2+(x2-10)**2 < 25**2)\n",
    "plot_data(xx, yy)"
   ]
  },
  {
   "cell_type": "code",
   "execution_count": null,
   "id": "c8f9a357-7405-4666-8cf1-1b9df7ed1478",
   "metadata": {},
   "outputs": [],
   "source": [
    "coefs = logistic_regression(xx, yy, step_size=0.01)\n",
    "print(coefs)"
   ]
  },
  {
   "cell_type": "code",
   "execution_count": null,
   "id": "531309f5",
   "metadata": {},
   "outputs": [],
   "source": [
    "plot_data(xx, yy)\n",
    "plot_splitting_line(coefs, xx)"
   ]
  },
  {
   "cell_type": "markdown",
   "id": "6f1d1d2c-50af-4098-9304-5c7d8293d26d",
   "metadata": {},
   "source": [
    "# Examples with real data"
   ]
  },
  {
   "cell_type": "code",
   "execution_count": null,
   "id": "7c227ccb-843d-465d-a537-155fa1442cfa",
   "metadata": {},
   "outputs": [],
   "source": [
    "import seaborn as sns\n",
    "\n",
    "iris = sns.load_dataset('iris')\n",
    "iris"
   ]
  },
  {
   "cell_type": "code",
   "execution_count": null,
   "id": "1cd76dac-a0c4-4bbc-ac42-b60bcb56615d",
   "metadata": {},
   "outputs": [],
   "source": [
    "xx = iris.iloc[:, :2].to_numpy()\n",
    "yy = (iris.species == \"setosa\").astype(float).to_numpy()\n",
    "plot_data(xx, yy)\n",
    "coefs = logistic_regression(xx, yy, step_size=0.01)\n",
    "plot_splitting_line(coefs, xx)"
   ]
  },
  {
   "cell_type": "code",
   "execution_count": null,
   "id": "6f738c26-2ef0-46fe-8bfe-94fc83505697",
   "metadata": {},
   "outputs": [],
   "source": [
    "def predict(val, coefs):\n",
    "    #TOREMOVE\n",
    "    val = np.array([1] + list(val))\n",
    "    logistic_function_result = logistic_function(val @ coefs)\n",
    "    return \"green\" if logistic_function_result > 0.5 else \"red\""
   ]
  },
  {
   "cell_type": "code",
   "execution_count": null,
   "id": "e1d36cf6-ee19-4637-8c57-7f1bafaeeb31",
   "metadata": {},
   "outputs": [],
   "source": [
    "print(predict([3.5, 3.0], coefs))\n",
    "print(predict([6.5, 3.0], coefs))"
   ]
  },
  {
   "cell_type": "code",
   "execution_count": null,
   "id": "ea8998cd-3b54-4362-a291-6cc543ba2b09",
   "metadata": {},
   "outputs": [],
   "source": []
  }
 ],
 "metadata": {
  "kernelspec": {
   "display_name": "Python 3 (ipykernel)",
   "language": "python",
   "name": "python3"
  },
  "language_info": {
   "codemirror_mode": {
    "name": "ipython",
    "version": 3
   },
   "file_extension": ".py",
   "mimetype": "text/x-python",
   "name": "python",
   "nbconvert_exporter": "python",
   "pygments_lexer": "ipython3",
   "version": "3.11.0rc1"
  }
 },
 "nbformat": 4,
 "nbformat_minor": 5
}
