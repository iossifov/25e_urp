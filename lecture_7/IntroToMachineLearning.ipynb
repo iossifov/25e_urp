{
 "cells": [
  {
   "cell_type": "code",
   "execution_count": null,
   "id": "1012195c",
   "metadata": {},
   "outputs": [],
   "source": [
    "import matplotlib.pyplot as plt\n",
    "import numpy as np"
   ]
  },
  {
   "cell_type": "markdown",
   "id": "616b1482-ba04-4128-9bda-d28cb5f6780c",
   "metadata": {},
   "source": [
    "# Regression"
   ]
  },
  {
   "cell_type": "markdown",
   "id": "a20cc7f5-9c93-4e60-aed0-84ff1cd5a1ac",
   "metadata": {},
   "source": [
    "## Linear Regression"
   ]
  },
  {
   "cell_type": "code",
   "execution_count": null,
   "id": "e3c69657-2586-4add-befb-ed275d788f9f",
   "metadata": {},
   "outputs": [],
   "source": [
    "def generate_data_reg(rule, size=100, noise_std=1):\n",
    "    xx = np.random.uniform(low=0, high=100, size=size)\n",
    "    noise = np.random.normal(0, noise_std, size=size)\n",
    "    yy = rule(xx) + noise\n",
    "    return xx, yy"
   ]
  },
  {
   "cell_type": "code",
   "execution_count": null,
   "id": "4f6cc4d2-e565-4ebc-a591-c85ddea7ec21",
   "metadata": {},
   "outputs": [],
   "source": [
    "xx, yy = generate_data_reg(rule=lambda x: 10 + 0.5*x, noise_std=10)\n",
    "plt.scatter(xx, yy)"
   ]
  },
  {
   "cell_type": "code",
   "execution_count": null,
   "id": "1bb0b5fb-34ad-4bb4-9ef1-65675cad110b",
   "metadata": {},
   "outputs": [],
   "source": [
    "def plot_data(xx, yy, **kwargs):\n",
    "    plt.scatter(xx, yy, **kwargs)\n",
    "    plt.xlabel(\"X\")\n",
    "    plt.ylabel(\"Y\")\n"
   ]
  },
  {
   "cell_type": "code",
   "execution_count": null,
   "id": "1edda31b-4f75-4d16-b8f3-6c0f2e492f48",
   "metadata": {},
   "outputs": [],
   "source": [
    "plot_data(xx, yy)"
   ]
  },
  {
   "cell_type": "code",
   "execution_count": null,
   "id": "6fa3ca1c-d02a-42e7-8c8b-f3bbe79e9a3d",
   "metadata": {},
   "outputs": [],
   "source": [
    "xx, yy = generate_data_reg(rule=lambda x: 10 + x**2, noise_std=1000)\n",
    "plot_data(xx, yy)"
   ]
  },
  {
   "cell_type": "code",
   "execution_count": null,
   "id": "1556c8c2-cc1b-4b20-b9cf-8b7aff0732db",
   "metadata": {},
   "outputs": [],
   "source": [
    "xx, yy = generate_data_reg(rule=lambda x: 10 + 0.5*x, noise_std=10)"
   ]
  },
  {
   "cell_type": "markdown",
   "id": "e9696296-be7c-41b7-a17c-2f375bd36d7c",
   "metadata": {},
   "source": [
    "### General workflow"
   ]
  },
  {
   "cell_type": "markdown",
   "id": "97f724aa-635a-46ae-976e-94368e9d4e64",
   "metadata": {},
   "source": [
    "Make prediction -> Compare with ground truth -> Make a slightly better prediction <br>"
   ]
  },
  {
   "cell_type": "markdown",
   "id": "e6772386-7349-4ec5-9973-1cebde9d7157",
   "metadata": {},
   "source": [
    "Let's make a prediction!"
   ]
  },
  {
   "cell_type": "code",
   "execution_count": null,
   "id": "ba275dc3-eb7e-4489-8a39-46c656a1e357",
   "metadata": {},
   "outputs": [],
   "source": [
    "coefs = [10, -1] # Random prediction\n",
    "plot_data(xx, coefs[0] + xx*coefs[1], color=\"red\")\n",
    "plot_data(xx, yy, color=\"blue\")"
   ]
  },
  {
   "cell_type": "markdown",
   "id": "0d295287-7323-4c00-98ec-25ea6dba7912",
   "metadata": {},
   "source": [
    "How do we evaluate this prediction? We need to construct a cost function."
   ]
  },
  {
   "cell_type": "code",
   "execution_count": null,
   "id": "891d6075-30d3-4ec2-b1b9-b558095f4ed1",
   "metadata": {},
   "outputs": [],
   "source": [
    "def cost_reg(truth, prediction):\n",
    "    ### What would be a reasonable cost function?"
   ]
  },
  {
   "cell_type": "code",
   "execution_count": null,
   "id": "c1459392-4c62-4e64-aa6e-f30610ed10fa",
   "metadata": {},
   "outputs": [],
   "source": [
    "## Let's check that this cost function makes sense"
   ]
  },
  {
   "cell_type": "code",
   "execution_count": null,
   "id": "211941c9-bfb0-4549-a72f-aab9d17d8781",
   "metadata": {},
   "outputs": [],
   "source": [
    "def score_prediction(xx, yy_true, coefs):\n",
    "    \"\"\"\n",
    "    Returns the cost function associated with given coefficients.\n",
    "    coefs is a list of two values - [intercept, slope].\n",
    "    \"\"\"\n",
    "    ### That should be easy."
   ]
  },
  {
   "cell_type": "markdown",
   "id": "dca7f1f0-3edd-4930-a086-3661fded0d32",
   "metadata": {},
   "source": [
    "Okay, we have a cost function that will allow us to evaluate any given prediction. Now we need some way to make a better prediction using this cost function. "
   ]
  },
  {
   "cell_type": "markdown",
   "id": "1af949ed-42a4-4c9f-bbbf-0456f71841de",
   "metadata": {},
   "source": [
    "Our strategy will be the following: <br>\n",
    "- Try changing each of the coefficients a little.\n",
    "- As soon as we stumble upon a beneficial change (that makes the regression line better), we accept the new regression line.\n",
    "This is not the most efficient strategy (and definitely not the one they really use in application) but it's simple and it works for this simple task!"
   ]
  },
  {
   "cell_type": "code",
   "execution_count": null,
   "id": "66ac243e-db77-44a0-8579-14eba8c74e8b",
   "metadata": {},
   "outputs": [],
   "source": [
    "def update_coefs_linreg(xx, yy_true, coefs, step_size=0.01):\n",
    "    new_coefs = coefs[:] # Initialize the new coefficients with the values of old coefficients, then we will change them a little.\n",
    "\n",
    "    # This is just switch between the coefficients when updating\n",
    "    ii = np.arange(len(coefs))\n",
    "    np.random.shuffle(ii)\n",
    "    \n",
    "    for i in ii: # Try changing each of the coefficients a little\n",
    "        \n",
    "        delta = np.zeros(len(coefs)) \n",
    "        delta[i] = step_size # Changing ith coefficient by 'step_size'\n",
    "        \n",
    "        # If adding delta to i-th coefficient makes the line better\n",
    "        if score_prediction(xx, yy_true, coefs+delta) < score_prediction(xx, yy_true, coefs): \n",
    "            new_coefs += delta # Add this delta\n",
    "            break # And end this optimization step\n",
    "        # If subtracting delta to i-th coefficient makes the line better\n",
    "        elif score_prediction(xx, yy_true, coefs-delta) < score_prediction(xx, yy_true, coefs): \n",
    "            new_coefs -= delta # Subtract this delta\n",
    "            break # And end this optimization step\n",
    "    return new_coefs"
   ]
  },
  {
   "cell_type": "code",
   "execution_count": null,
   "id": "5037204b-3988-4f98-b3d8-131ef3716f23",
   "metadata": {},
   "outputs": [],
   "source": [
    "coefs = [10, -1]\n",
    "optimized_one_step_coefs = update_coefs_linreg(xx, yy, coefs)\n",
    "print(optimized_one_step_coefs)"
   ]
  },
  {
   "cell_type": "code",
   "execution_count": null,
   "id": "bcfea93e-67b0-4c47-8e58-cef68f780ba6",
   "metadata": {},
   "outputs": [],
   "source": [
    "plt.figure(figsize=(10, 5))\n",
    "plot_data(xx, coefs[0] + xx * coefs[1], color=\"red\", label=\"old prediction\", s=10)\n",
    "plot_data(xx, optimized_one_step_coefs[0] + xx * optimized_one_step_coefs[1], \n",
    "          color=\"green\", label=\"new prediction\", s=10)\n",
    "plot_data(xx, yy, color=\"blue\")\n",
    "plt.legend()"
   ]
  },
  {
   "cell_type": "markdown",
   "id": "e57868c2-bc8f-4f3b-9cbd-fca90b18909c",
   "metadata": {},
   "source": [
    "Now we can do our optimization!"
   ]
  },
  {
   "cell_type": "code",
   "execution_count": null,
   "id": "56ce4d2c-c0df-43c0-a988-15ddac86c7da",
   "metadata": {},
   "outputs": [],
   "source": [
    "def linear_regression(xx, yy, step_size=0.01):\n",
    "    coefs = np.array([1.0, 1.0])\n",
    "    while True:\n",
    "        previous_coefs = coefs.copy()\n",
    "        coefs = update_coefs_linreg(xx, yy, coefs, step_size=step_size)\n",
    "        print(coefs, score_prediction(xx, yy, coefs))\n",
    "        if all(previous_coefs == coefs):\n",
    "            break\n",
    "    return coefs"
   ]
  },
  {
   "cell_type": "code",
   "execution_count": null,
   "id": "3e5818b7-54ea-4736-ae84-1c0730c32c1a",
   "metadata": {
    "scrolled": true
   },
   "outputs": [],
   "source": [
    "coefs = linear_regression(xx, yy, step_size=0.01)"
   ]
  },
  {
   "cell_type": "code",
   "execution_count": null,
   "id": "8328cf3f-dc6f-4408-a3f1-f561c37ea109",
   "metadata": {},
   "outputs": [],
   "source": [
    "plot_data(xx, yy)\n",
    "plot_data(xx, coefs[0] + coefs[1]*xx)"
   ]
  },
  {
   "cell_type": "markdown",
   "id": "4cf5df8e-13b5-4dbf-9742-03e650df34b5",
   "metadata": {},
   "source": [
    "# Examples with real data"
   ]
  },
  {
   "cell_type": "code",
   "execution_count": null,
   "id": "6cc248fb-60d3-4ec0-8f80-a0ea4a27a05a",
   "metadata": {},
   "outputs": [],
   "source": [
    "import seaborn as sns\n",
    "\n",
    "iris = sns.load_dataset('iris')\n",
    "iris"
   ]
  },
  {
   "cell_type": "code",
   "execution_count": null,
   "id": "0b089cea-b3e9-46cb-bee0-21058fe46c32",
   "metadata": {},
   "outputs": [],
   "source": [
    "xx = iris.sepal_length\n",
    "yy = iris.sepal_width"
   ]
  },
  {
   "cell_type": "code",
   "execution_count": null,
   "id": "e86bfd9c-146c-4caf-8091-c56ccd6aa097",
   "metadata": {},
   "outputs": [],
   "source": [
    "plt.scatter(xx, yy)"
   ]
  },
  {
   "cell_type": "code",
   "execution_count": null,
   "id": "21c0ea2d-c229-4084-8ac3-7b98933f8b48",
   "metadata": {},
   "outputs": [],
   "source": [
    "setosas = iris.loc[iris.species == \"setosa\"]\n",
    "xx = setosas.sepal_length\n",
    "yy = setosas.sepal_width\n",
    "plt.scatter(xx, yy)\n",
    "plt.xlabel(\"Sepal length\")\n",
    "plt.ylabel(\"Sepal width\")"
   ]
  },
  {
   "cell_type": "code",
   "execution_count": null,
   "id": "fe102ff2-9e82-41d8-8850-9a26fa607a4e",
   "metadata": {
    "scrolled": true
   },
   "outputs": [],
   "source": [
    "coefs = linear_regression(xx, yy)"
   ]
  },
  {
   "cell_type": "code",
   "execution_count": null,
   "id": "00a08a5f-838f-43ad-a1c8-0a1ae2fbbc45",
   "metadata": {},
   "outputs": [],
   "source": [
    "plt.scatter(xx, yy, color=\"blue\")\n",
    "plt.scatter(xx, coefs[0] + xx*coefs[1], color=\"green\")\n",
    "plt.xlabel(\"Sepal length\")\n",
    "plt.ylabel(\"Sepal width\")"
   ]
  },
  {
   "cell_type": "code",
   "execution_count": null,
   "id": "33c9b6f5-b6d4-42cb-bc85-358a3306dd80",
   "metadata": {},
   "outputs": [],
   "source": [
    "def predict_sepal_width_from_sepal_length(sepal_length, coefs):\n",
    "    # Implement yourself\n",
    "    "
   ]
  },
  {
   "cell_type": "markdown",
   "id": "b7a54b9a-72d7-4673-8dac-f3aaed55a954",
   "metadata": {},
   "source": [
    "# Classification"
   ]
  },
  {
   "cell_type": "code",
   "execution_count": null,
   "id": "b58c274f-4635-477d-951c-6d7a0419c51d",
   "metadata": {},
   "outputs": [],
   "source": [
    "def generate_data_cls(rule, n_variables=2, size=100):\n",
    "    xx = np.random.uniform(low=0, high=100, size=(size, n_variables))\n",
    "    yy = []\n",
    "    for i in range(xx.shape[0]): # Number of observations\n",
    "        yy.append(rule(*xx[i, :])) # Apply rule function to all the features of ith observation\n",
    "    yy = np.array(yy).astype(float) # Convert to numpy array of type float\n",
    "    return xx, yy"
   ]
  },
  {
   "cell_type": "code",
   "execution_count": null,
   "id": "0b2a6678-b901-443e-b236-99349d643556",
   "metadata": {},
   "outputs": [],
   "source": [
    "xx, yy = generate_data_cls(rule=lambda x1, x2: x1 < x2)\n",
    "plt.scatter(xx[:, 0], xx[:, 1], c=[\"red\" if y == 0 else \"green\" for y in yy])"
   ]
  },
  {
   "cell_type": "code",
   "execution_count": null,
   "id": "610d1349-50d4-42a1-a833-d40ed1c84866",
   "metadata": {},
   "outputs": [],
   "source": [
    "def plot_data(xx, yy):\n",
    "    plt.scatter(xx[:, 0], xx[:, 1], color=[\"green\" if y else \"red\" for y in yy])\n",
    "    plt.xlabel(\"X1\")\n",
    "    plt.ylabel(\"X2\")"
   ]
  },
  {
   "cell_type": "code",
   "execution_count": null,
   "id": "28c26216-63cc-4567-8779-5a115b7a79a5",
   "metadata": {},
   "outputs": [],
   "source": [
    "xx, yy = generate_data_cls(rule=lambda x1, x2: (x1-50)*(x2-50) > 10, size=500)\n",
    "plot_data(xx, yy)"
   ]
  },
  {
   "cell_type": "code",
   "execution_count": null,
   "id": "4bf8dbb3-d00d-46dc-84a9-580af1b3d95f",
   "metadata": {},
   "outputs": [],
   "source": [
    "xx, yy = generate_data_cls(rule=lambda x1, x2: (x1-50)**2 + (x2-50)**2 < 25**2, size=500)\n",
    "plot_data(xx, yy)"
   ]
  },
  {
   "cell_type": "code",
   "execution_count": null,
   "id": "9993da1b-0b00-4ba4-b2c3-2c6d32e22a8b",
   "metadata": {},
   "outputs": [],
   "source": [
    "xx, yy = generate_data_cls(rule=lambda x1, x2: x2 > 100-x1, size=500)\n",
    "plot_data(xx, yy)"
   ]
  },
  {
   "cell_type": "markdown",
   "id": "5ab0207a-8f08-4d50-8619-73de076e1762",
   "metadata": {},
   "source": [
    "## Logistic Regression"
   ]
  },
  {
   "cell_type": "markdown",
   "id": "fe08eee1-a70e-4c8f-8a23-010b8e053f58",
   "metadata": {},
   "source": [
    "General principle: we want to assign (?somehow?) a value to each point. If this value is, say, large, then the point is green, if it is small, then it is red. <br>\n",
    "Two questions: <br>\n",
    "- How to assign this value?\n",
    "- How to formalize the \"if large, green, if small, red\" principle?\n",
    "  \n",
    "Let's start from the end."
   ]
  },
  {
   "cell_type": "markdown",
   "id": "48d88a72-fb99-4964-83e5-141f90449fb5",
   "metadata": {},
   "source": [
    "### If large, green; if small, red."
   ]
  },
  {
   "cell_type": "markdown",
   "id": "d1a1d7a3-62ac-4ada-8bde-78494e90352c",
   "metadata": {},
   "source": [
    "This principle can be formalized with a logistic function that converts any number from $-\\infty$ to $+\\infty$ to a $[0, 1]$ range."
   ]
  },
  {
   "cell_type": "code",
   "execution_count": null,
   "id": "769051f4-1b4e-4d8a-80d5-751c6e4a5611",
   "metadata": {},
   "outputs": [],
   "source": [
    "def logistic_function(x):\n",
    "    return 1/(1+np.exp(-x))\n",
    "\n",
    "sample_x = np.arange(-10, 10, 0.1)\n",
    "sample_y = logistic_function(sample_x)\n",
    "plt.plot(sample_x, sample_y)\n",
    "plt.show()"
   ]
  },
  {
   "cell_type": "markdown",
   "id": "fc5f3e07-abe1-4192-adbb-089891931c49",
   "metadata": {},
   "source": [
    "So, whatever number our algorithm outputs for a certain point, we apply logistic function to it and the closer it is to 1 the more sure we are that the point should be green and the closer it is to 0, the more sure we are that the point should be red. <br>\n",
    "Notice that we are only able to do it because of the limited range. We can tell exactly how close 0.99 is to 1.0 but we cannot tell how close 10 is to $\\infty$"
   ]
  },
  {
   "cell_type": "markdown",
   "id": "58c08d2a-ba4a-4ab7-9225-518742ab9149",
   "metadata": {},
   "source": [
    "### Assigning value to each point"
   ]
  },
  {
   "cell_type": "markdown",
   "id": "9916bdd8-a01b-4d70-b2a5-34fee76995b9",
   "metadata": {},
   "source": [
    "There are many ways of doing that. And different ways correspond to different machine learning algorithms for classification. We are going to use the simplest one - logistic regression. In logistic regression each point is assigned a value equal to a linear combination of its coordinates."
   ]
  },
  {
   "cell_type": "code",
   "execution_count": null,
   "id": "fb534918-ffb8-4712-aaab-db159cb5cb98",
   "metadata": {},
   "outputs": [],
   "source": [
    "sample_point = [1, 1] # x1 = 1, x2 = 1\n",
    "b, w1, w2 = 10, 20, 30 \n",
    "assigned_value = b + sample_point[0] * w1 + sample_point[1] * w2 # b + x1*w1 + x2*w2\n",
    "print(assigned_value, logistic_function(assigned_value))"
   ]
  },
  {
   "cell_type": "markdown",
   "id": "e1dcbfbc-7b37-4ee3-af66-57cad565177c",
   "metadata": {},
   "source": [
    "So, what we need to do is to learn coefficients $b$, $w_1$ and $w_2$ that will make the best predictions on our dataset (predict something close to 0 when the point is red and close to 1.0 when the point is green). <br>"
   ]
  },
  {
   "cell_type": "markdown",
   "id": "a635ebc9-8958-405b-b62a-4c97ea0760aa",
   "metadata": {},
   "source": [
    "### Cost function"
   ]
  },
  {
   "cell_type": "markdown",
   "id": "c3ded7f4-4dac-4206-913f-eba5aa2ee04f",
   "metadata": {},
   "source": [
    "Cost: <br>\n",
    "$C = -(y*log(p) + (1-y)*log(1-p)$)"
   ]
  },
  {
   "cell_type": "markdown",
   "id": "0f4284a0-375a-410b-8d43-4252abd82ea0",
   "metadata": {},
   "source": [
    "|yy |prediction|C|\n",
    "|---|----------|-------------|\n",
    "|0|->0|?|\n",
    "|0|->1|?|\n",
    "|1|->0|?|\n",
    "|1|->1|?|"
   ]
  },
  {
   "cell_type": "markdown",
   "id": "c68af09c-1b4f-4934-b993-c8548933e81c",
   "metadata": {},
   "source": [
    "## Logistic Regression Implementation"
   ]
  },
  {
   "cell_type": "markdown",
   "id": "f8331b11-7828-4082-842a-d71a1169d563",
   "metadata": {},
   "source": [
    "We are not going to implement this one ourselves from scratch. Instead we are going to use a standard library - scikit-learn. That is what you would do in real life anyway :)"
   ]
  },
  {
   "cell_type": "code",
   "execution_count": null,
   "id": "f4414dac-5e09-4b59-9d47-b1ea3cf54dcb",
   "metadata": {},
   "outputs": [],
   "source": [
    "from sklearn.linear_model import LogisticRegression\n",
    "model = LogisticRegression()\n",
    "model.fit(xx, yy)\n",
    "model.coef_, model.intercept_"
   ]
  },
  {
   "cell_type": "code",
   "execution_count": null,
   "id": "c6613b21-599c-4ebb-b988-2b1e8d69cb90",
   "metadata": {},
   "outputs": [],
   "source": [
    "predictions = model.predict(xx)\n",
    "    \n",
    "plt.scatter(xx[:, 0], xx[:, 1], c=predictions, cmap=\"RdYlGn\")"
   ]
  },
  {
   "cell_type": "markdown",
   "id": "7a290141-1616-4937-b72d-51b6e5901a92",
   "metadata": {},
   "source": [
    "You can see that two groups of points can be described as separated by a line. What is the equation for this line? "
   ]
  },
  {
   "cell_type": "code",
   "execution_count": null,
   "id": "fac161bc-95f8-480f-a943-e7206efb1c2f",
   "metadata": {},
   "outputs": [],
   "source": [
    "def plot_splitting_line(xx, model):\n",
    "    xx_for_line = np.array([xx[:, 0].min(), xx[:, 0].max()])\n",
    "    b = model.intercept_\n",
    "    w1, w2 = model.coef_[0]\n",
    "    yy_for_line = -b/w2 - w1/w2 * xx_for_line\n",
    "    plt.plot(xx_for_line, yy_for_line)\n",
    "\n",
    "    # Making the plot pretiter, don't worry about it\n",
    "    mx, mn = xx[:, 1].max(), xx[:, 1].min()\n",
    "    rng = mx-mn \n",
    "    plt.ylim(mn-0.1*rng, mx+0.1*rng)"
   ]
  },
  {
   "cell_type": "code",
   "execution_count": null,
   "id": "e927dc68-875c-4950-8344-93326758aad9",
   "metadata": {},
   "outputs": [],
   "source": [
    "plt.scatter(xx[:, 0], xx[:, 1], c=predictions, cmap=\"RdYlGn\")\n",
    "plot_splitting_line(xx, model)"
   ]
  },
  {
   "cell_type": "code",
   "execution_count": null,
   "id": "ddf207d0-e50e-4fc9-9d3d-22cdb37cd3a0",
   "metadata": {},
   "outputs": [],
   "source": [
    "xx, yy = generate_data_cls(n_variables=2, size=300, rule=lambda x1, x2: x1 - 3*x2 + 1 > 0)\n",
    "plot_data(xx, yy)\n",
    "model.fit(xx, yy)\n",
    "plot_splitting_line(xx, model)"
   ]
  },
  {
   "cell_type": "code",
   "execution_count": null,
   "id": "ece591b6",
   "metadata": {},
   "outputs": [],
   "source": [
    "xx, yy = generate_data_cls(n_variables=2, size=200, rule=lambda x1, x2: (x1-10)**2+(x2-10)**2 < 25**2)\n",
    "plot_data(xx, yy)\n",
    "model.fit(xx, yy)\n",
    "plot_splitting_line(xx, model)"
   ]
  },
  {
   "cell_type": "code",
   "execution_count": null,
   "id": "aed14e9a-1a80-4c2f-8405-774f40df4308",
   "metadata": {},
   "outputs": [],
   "source": [
    "def plot_splitting_line(xx, model):\n",
    "    xx_for_line = np.array([xx[:, 0].min(), xx[:, 0].max()])\n",
    "    b = model.intercept_\n",
    "    w1, w2 = model.coef_[0]\n",
    "    yy_for_line = -b/w2 - w1/w2 * xx_for_line\n",
    "    plt.plot(xx_for_line, yy_for_line)\n",
    "\n",
    "    # Making the plot pretiter, don't worry about it\n",
    "    mx, mn = xx[:, 1].max(), xx[:, 1].min()\n",
    "    rng = mx-mn \n",
    "    plt.ylim(mn-0.1*rng, mx+0.1*rng)"
   ]
  },
  {
   "cell_type": "code",
   "execution_count": null,
   "id": "531309f5",
   "metadata": {},
   "outputs": [],
   "source": [
    "xx, yy = generate_data_cls(rule=lambda x1, x2: (x1-50)**2 + (x2-50)**2 < 25**2, size=500)\n",
    "plot_data(xx, yy)\n",
    "model.fit(xx, yy)\n",
    "plot_splitting_line(xx, model)"
   ]
  },
  {
   "cell_type": "markdown",
   "id": "6f1d1d2c-50af-4098-9304-5c7d8293d26d",
   "metadata": {},
   "source": [
    "# Examples with real data"
   ]
  },
  {
   "cell_type": "code",
   "execution_count": null,
   "id": "7c227ccb-843d-465d-a537-155fa1442cfa",
   "metadata": {},
   "outputs": [],
   "source": [
    "import seaborn as sns\n",
    "\n",
    "iris = sns.load_dataset('iris')\n",
    "iris"
   ]
  },
  {
   "cell_type": "code",
   "execution_count": null,
   "id": "1cd76dac-a0c4-4bbc-ac42-b60bcb56615d",
   "metadata": {},
   "outputs": [],
   "source": [
    "xx = iris.iloc[:, :2].to_numpy()\n",
    "yy = (iris.species == \"setosa\").astype(float).to_numpy()\n",
    "plot_data(xx, yy)\n",
    "model.fit(xx, yy)\n",
    "plot_splitting_line(xx, model)"
   ]
  },
  {
   "cell_type": "code",
   "execution_count": null,
   "id": "e1d36cf6-ee19-4637-8c57-7f1bafaeeb31",
   "metadata": {},
   "outputs": [],
   "source": [
    "print(model.predict([[5, 5]]))\n",
    "print(model.predict([[5, 1]]))\n",
    "print(model.predict([[1, 1]]))"
   ]
  },
  {
   "cell_type": "code",
   "execution_count": null,
   "id": "ea8998cd-3b54-4362-a291-6cc543ba2b09",
   "metadata": {},
   "outputs": [],
   "source": []
  }
 ],
 "metadata": {
  "kernelspec": {
   "display_name": "Python 3 (ipykernel)",
   "language": "python",
   "name": "python3"
  },
  "language_info": {
   "codemirror_mode": {
    "name": "ipython",
    "version": 3
   },
   "file_extension": ".py",
   "mimetype": "text/x-python",
   "name": "python",
   "nbconvert_exporter": "python",
   "pygments_lexer": "ipython3",
   "version": "3.11.0rc1"
  }
 },
 "nbformat": 4,
 "nbformat_minor": 5
}
