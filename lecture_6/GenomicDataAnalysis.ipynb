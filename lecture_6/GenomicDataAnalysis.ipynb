{
 "cells": [
  {
   "cell_type": "code",
   "execution_count": null,
   "id": "4bcd3c97-f54b-44d8-8830-358b48bb9043",
   "metadata": {},
   "outputs": [],
   "source": [
    "!mkdir files\n",
    "!wget -P files https://raw.githubusercontent.com/iossifov/25e_urp/refs/heads/main/lecture_6/files/sequences.fasta \n",
    "!wget -P files https://raw.githubusercontent.com/iossifov/25e_urp/refs/heads/main/lecture_6/files/tree.nwk"
   ]
  },
  {
   "cell_type": "markdown",
   "id": "51df5436-67a4-4020-8dbf-8766059b8a3b",
   "metadata": {},
   "source": [
    "# Compensatory frameshifting indels"
   ]
  },
  {
   "cell_type": "markdown",
   "id": "58676165-acf4-4372-b5a6-a0db226d310c",
   "metadata": {},
   "source": [
    "Today we are going to reproduce the algorithm I created for my undergrad thesis (see [this paper](https://academic.oup.com/mbe/article/39/3/msac031/6524633)) for identification of compensatory frameshifting indels."
   ]
  },
  {
   "attachments": {},
   "cell_type": "markdown",
   "id": "b674a69b-ee43-4e2e-a386-3fa64c4c0889",
   "metadata": {},
   "source": [
    "<center><div>\n",
    "<img src=\"files/alignment1.png\" width=\"800\"/>\n",
    "</div></center>\n"
   ]
  },
  {
   "cell_type": "markdown",
   "id": "4db3872a-2411-4f6d-b0f2-1a104560d5cf",
   "metadata": {},
   "source": [
    "Strategy:\n",
    "- Detect all indels\n",
    "- Classify all which we can into insertions and deletions\n",
    "- Figure out which ones are mutually compensatory"
   ]
  },
  {
   "cell_type": "markdown",
   "id": "ff3bb3a4-5a89-45fd-9ba5-2e6eef28b311",
   "metadata": {},
   "source": [
    "## Loading a multiple sequence alignment"
   ]
  },
  {
   "cell_type": "markdown",
   "id": "956042ee-960a-409c-a786-14f7f9d7e550",
   "metadata": {},
   "source": [
    "Multiple Sequence Alignments (MSA) are often stored in FASTA format: <br><br>\n",
    "\\>Sequence Name #1 <br>\n",
    "ATGC...GTTA <br>\n",
    "\\>Sequence Name #2 <br>\n",
    "ATGT...ATAA <br>\n"
   ]
  },
  {
   "cell_type": "markdown",
   "id": "dfd36220-fa78-41ef-9a55-8e4dc80452e6",
   "metadata": {},
   "source": [
    "Here is the file we are going to work with:"
   ]
  },
  {
   "cell_type": "code",
   "execution_count": null,
   "id": "4bc4d699-3819-496d-882d-cc9a47b99749",
   "metadata": {
    "scrolled": true
   },
   "outputs": [],
   "source": [
    "with open (\"files/sequences.fasta\", \"r\") as fl:\n",
    "    fasta = fl.read()\n",
    "print(fasta)"
   ]
  },
  {
   "cell_type": "markdown",
   "id": "20e148e2-bef5-4066-9a50-4ba0cbbb140a",
   "metadata": {},
   "source": [
    "There are many ways to load it into our program. You can load the alignment as a single string or use a native biopython data structure. But let's do it with dictionaries for simplicity"
   ]
  },
  {
   "cell_type": "markdown",
   "id": "0519f399-9fa0-4b3f-a3aa-a02825561be2",
   "metadata": {},
   "source": [
    "Now let's write a function that will create a list of dictionaries out of a FASTA file."
   ]
  },
  {
   "cell_type": "code",
   "execution_count": null,
   "id": "2b039775-41a7-4336-bfce-11f976b28ff9",
   "metadata": {},
   "outputs": [],
   "source": [
    "def make_list_of_sequences(path_to_file):\n",
    "    \"\"\"\n",
    "    Takes a FASTA file with aligned sequences and their names.\n",
    "    Returns a list of dictionaries, each dictionary representing a sequence.\n",
    "    \"\"\"\n",
    "    seqs = []\n",
    "    \n",
    "    current_name = None\n",
    "    current_sequence = []\n",
    "    with open(path_to_file, \"r\") as fl:\n",
    "        for line in fl.readlines():\n",
    "            line = line.strip()\n",
    "            if line.startswith('>'): # Then it's a name of a new sequence\n",
    "                if current_name is not None: # Save previous sequence if exists\n",
    "                    seq = ''.join(current_sequence)\n",
    "                    new_seq = dict(name=current_name, gene=seq, holes=[], indels=[])\n",
    "                    seqs.append(new_seq)\n",
    "                    \n",
    "                current_name = line.lstrip('>') # Give a name to the new sequence\n",
    "                current_sequence = [] # Clear out the sequence of the new sequence\n",
    "            else:\n",
    "                current_sequence.append(line) # If it's a line with sequence, add this line to the current sequence's gene sequence\n",
    "        if current_name is not None: # Add the last sequence to the list\n",
    "            seq = ''.join(current_sequence)\n",
    "            seqs.append(dict(name=current_name, gene=seq, holes=[], indels=[]))\n",
    "    return seqs"
   ]
  },
  {
   "cell_type": "code",
   "execution_count": null,
   "id": "406983f3-37c8-44e7-abe9-b608a9b2a397",
   "metadata": {},
   "outputs": [],
   "source": [
    "sequences = make_list_of_sequences(\"files/sequences.fasta\")\n",
    "sequences = sorted(sequences, key=lambda seq: int(seq[\"name\"].split(\"_\")[-1]))\n",
    "sequences[0]"
   ]
  },
  {
   "cell_type": "code",
   "execution_count": null,
   "id": "23484b2f-e2ec-45a8-891d-717f810b0277",
   "metadata": {},
   "outputs": [],
   "source": [
    "for sequence in sequences:\n",
    "    print(f\"{sequence['gene'][:65]}...{sequence['gene'][-60:]} {sequence['name']}\")"
   ]
  },
  {
   "cell_type": "markdown",
   "id": "00b5f483-e71f-4cdd-b1e7-22e97655c119",
   "metadata": {},
   "source": [
    "We will represent indels with dictionaries as well."
   ]
  },
  {
   "cell_type": "code",
   "execution_count": null,
   "id": "466f948e-14bb-4ba7-a5a6-16c4ee585a0d",
   "metadata": {},
   "outputs": [],
   "source": [
    "indel1 = dict(position=10, length=2, name=\"Del\")\n",
    "print(indel1)"
   ]
  },
  {
   "cell_type": "markdown",
   "id": "f753f975-0ef3-49f4-8c47-1474c95e77fa",
   "metadata": {},
   "source": [
    "Now let's create a function that will list all the indels in the alignment. We can identify a potential indel by a series of gaps in at least one of the sequences. I will call them holes."
   ]
  },
  {
   "cell_type": "code",
   "execution_count": null,
   "id": "aa9b6c13-9aab-4f6e-9401-48c62fb4ed27",
   "metadata": {},
   "outputs": [],
   "source": [
    "import re\n",
    "def find_holes(seq):\n",
    "    matches = re.finditer(r'-+', seq)\n",
    "    return [dict(position=match.start()+1, length=len(match.group()), name=None) for match in matches]\n",
    "find_holes(sequences[0][\"gene\"])"
   ]
  },
  {
   "cell_type": "code",
   "execution_count": null,
   "id": "7df7fd3c-fcb5-42e6-bd20-a35af41a3876",
   "metadata": {},
   "outputs": [],
   "source": [
    "def make_list_of_holes(seqs):\n",
    "    \"\"\"\n",
    "    Takes a list of sequences.\n",
    "    Detects holes in all the sequences, reflects it in their \"holes\" attributes.\n",
    "    Returns the set of unique holes across all the sequences.\n",
    "    \"\"\"\n",
    "    all_holes = []\n",
    "    for seq in seqs:\n",
    "        holes = find_holes(seq[\"gene\"])\n",
    "        seq[\"holes\"] = holes\n",
    "        print(seq[\"name\"], holes)\n",
    "\n",
    "        # If hole already exists in our list, skip it\n",
    "        for new_hole in holes:\n",
    "            exists = False\n",
    "            for existing_hole in all_holes:\n",
    "                if new_hole[\"position\"] == existing_hole[\"position\"] and new_hole[\"length\"] == existing_hole[\"length\"]:\n",
    "                    exists = True\n",
    "            if not exists:\n",
    "                all_holes.append(new_hole)\n",
    "    return all_holes"
   ]
  },
  {
   "cell_type": "code",
   "execution_count": null,
   "id": "3e00db24-f238-42fa-875e-c2b5aa33488e",
   "metadata": {},
   "outputs": [],
   "source": [
    "all_holes = make_list_of_holes(sequences)"
   ]
  },
  {
   "cell_type": "code",
   "execution_count": null,
   "id": "29f9a8b2-91ae-4b75-afb7-601aa524735f",
   "metadata": {},
   "outputs": [],
   "source": [
    "# Notice that all_holes contains only unique holes\n",
    "print(all_holes)"
   ]
  },
  {
   "attachments": {},
   "cell_type": "markdown",
   "id": "01143e66-b3ea-4dfd-a62a-e71266d8cd40",
   "metadata": {},
   "source": [
    "## Classifying detecting insertions and deletions using holes"
   ]
  },
  {
   "attachments": {},
   "cell_type": "markdown",
   "id": "3948e2f3-c161-4e43-acec-48e50e6feb72",
   "metadata": {},
   "source": [
    "<center><div>\n",
    "<img src=\"files/alignment2.png\" height=\"500\"/>\n",
    "</div></center>\n"
   ]
  },
  {
   "cell_type": "markdown",
   "id": "8f155a21-34c8-4a08-8ff4-27b64f0725b3",
   "metadata": {},
   "source": [
    "## Newick format"
   ]
  },
  {
   "cell_type": "markdown",
   "id": "e554eb87-5d04-46ba-9a81-71fecd966c31",
   "metadata": {},
   "source": [
    "Phylogenetic trees are most commonly stored in newick format (.nwk). Here is a toy newick tree from wikipedia: <br>\n",
    "## (A:0.1,B:0.2,(C:0.3,D:0.4)E:0.5)F; \n",
    "which looks like this: "
   ]
  },
  {
   "attachments": {},
   "cell_type": "markdown",
   "id": "ed43f279-8240-4475-9a42-00cd5805c9d0",
   "metadata": {},
   "source": [
    "<center><div>\n",
    "<img src=\"files/tree.png\" height=\"500\"/>\n",
    "</div></center>"
   ]
  },
  {
   "cell_type": "markdown",
   "id": "42208ef6-b76a-4f9c-80b8-ea9b4ac1b805",
   "metadata": {},
   "source": [
    "Now let's take a look at a sample newick file. <br>"
   ]
  },
  {
   "cell_type": "code",
   "execution_count": null,
   "id": "a9578d3c-40f5-4df0-b923-eba8b719c9ef",
   "metadata": {},
   "outputs": [],
   "source": [
    "with open(\"files/tree.nwk\", \"r\") as fl:\n",
    "    newick_string = fl.read()\n",
    "print(newick_string)"
   ]
  },
  {
   "cell_type": "markdown",
   "id": "798d5b67-243a-4eed-b939-83a516fee5ce",
   "metadata": {},
   "source": [
    "Phylo module of Biopython package allows loading newick files into Tree objects.\n",
    "Tree objects represent phyogenetic trees in a way that makes working with them convenient <br>\n",
    "(Even though, arguably, Phylo module is not the best at doing that, e.g. see ete3) <br>\n",
    "One thing you might want to do with your tree is to visualize it. Here is how you can do it:"
   ]
  },
  {
   "cell_type": "code",
   "execution_count": null,
   "id": "c3ba5f98-f884-4467-a0c5-a708dd9f71cc",
   "metadata": {},
   "outputs": [],
   "source": [
    "from Bio import Phylo\n",
    "\n",
    "TREE = Phylo.read(\"files/tree.nwk\", format=\"newick\")\n",
    "TREE"
   ]
  },
  {
   "cell_type": "code",
   "execution_count": null,
   "id": "0f82c5ac-af80-4ecb-8850-4f073a9ac53c",
   "metadata": {},
   "outputs": [],
   "source": [
    "import matplotlib.pyplot as plt\n",
    "\n",
    "fig, ax = plt.subplots(figsize=(20, 10))\n",
    "Phylo.draw(TREE, axes=ax, do_show=False)\n",
    "ax.set_xlim(0, 10)\n",
    "plt.show()"
   ]
  },
  {
   "cell_type": "code",
   "execution_count": null,
   "id": "0f0350b1-0f4b-4fee-a3a3-9b2342304685",
   "metadata": {},
   "outputs": [],
   "source": [
    "# List all the terminal nodes of a tree\n",
    "TREE.get_terminals()"
   ]
  },
  {
   "cell_type": "code",
   "execution_count": null,
   "id": "337d5a4b-8385-462e-94df-d2a3f8a658d6",
   "metadata": {},
   "outputs": [],
   "source": [
    "random_terminal_node = TREE.get_terminals()[10]\n",
    "random_terminal_node"
   ]
  },
  {
   "cell_type": "code",
   "execution_count": null,
   "id": "3c452c5f-64db-4ec5-9a42-a93fa27e4031",
   "metadata": {},
   "outputs": [],
   "source": [
    "TREE.get_path(random_terminal_node)"
   ]
  },
  {
   "cell_type": "code",
   "execution_count": null,
   "id": "447c0464-141e-4e68-a67f-a582cd7db965",
   "metadata": {},
   "outputs": [],
   "source": [
    "# This will just give us the random_terminal_node itself\n",
    "TREE.get_path(random_terminal_node)[-1]"
   ]
  },
  {
   "cell_type": "code",
   "execution_count": null,
   "id": "3c7ccd64-020f-425f-ac60-23403c1f183f",
   "metadata": {},
   "outputs": [],
   "source": [
    "# How to get its parent?\n",
    "# Answer here:"
   ]
  },
  {
   "cell_type": "code",
   "execution_count": null,
   "id": "7f454688-94de-44ba-b80b-8b21e8101b44",
   "metadata": {},
   "outputs": [],
   "source": [
    "# Which node is the last common ancestor of a set of leaves?\n",
    "terminals = TREE.get_terminals()\n",
    "some_random_nodes = [terminals[i] for i in [13, 15, 17]]\n",
    "print(\"Here are my nodes:\")\n",
    "print([node.name for node in some_random_nodes])\n",
    "print(\"Here is their last common ancestor:\")\n",
    "print(TREE.common_ancestor(some_random_nodes))"
   ]
  },
  {
   "cell_type": "code",
   "execution_count": null,
   "id": "4ca30cb6-1153-4deb-9ddf-af77790d137a",
   "metadata": {},
   "outputs": [],
   "source": [
    "def is_monophyletic(list_of_leaves):\n",
    "    \"\"\"\n",
    "    Returns True if the last common ancestor of list_of_leaves have no other descendants  \n",
    "    \"\"\"\n",
    "    ### Implement this function yourself:"
   ]
  },
  {
   "cell_type": "code",
   "execution_count": null,
   "id": "fbac33f6-94ae-4d70-bb3e-b3dbf25b586f",
   "metadata": {},
   "outputs": [],
   "source": [
    "TREE.common_ancestor([\"leaf_1\"])"
   ]
  },
  {
   "cell_type": "code",
   "execution_count": null,
   "id": "42d3a1ea-9129-4730-9c60-30ec7f9102d1",
   "metadata": {},
   "outputs": [],
   "source": [
    "is_monophyletic([node.name for node in some_random_nodes])"
   ]
  },
  {
   "cell_type": "code",
   "execution_count": null,
   "id": "375b2687-e3fc-40dc-b41e-b32b3e76245a",
   "metadata": {},
   "outputs": [],
   "source": [
    "def classify_sequences_for_hole(hole, seqs):\n",
    "    \"\"\"Classify sequences as having or not having a specific hole\"\"\"\n",
    "    sequences_with_hole = []\n",
    "    sequences_without_hole = []\n",
    "    \n",
    "    for seq in seqs:\n",
    "        found_hole = False\n",
    "        for ith_hole in seq[\"holes\"]:\n",
    "            if ith_hole[\"position\"] == hole[\"position\"] and ith_hole[\"length\"] == hole[\"length\"]:\n",
    "                found_hole = True\n",
    "                break\n",
    "\n",
    "        # Implement missing logic:\n",
    "            \n",
    "    return sequences_with_hole, sequences_without_hole"
   ]
  },
  {
   "cell_type": "code",
   "execution_count": null,
   "id": "7ab07d3d-b36c-4f9e-ac53-1c07d37644e4",
   "metadata": {},
   "outputs": [],
   "source": [
    "first_hole = all_holes[0]\n",
    "sequences_with, sequences_without = classify_sequences_for_hole(first_hole, sequences)\n",
    "print(\"Have a hole:\")\n",
    "print([seq[\"name\"] for seq in sequences_with])\n",
    "print(\"Don't have a hole:\")\n",
    "print([seq[\"name\"] for seq in sequences_without])"
   ]
  },
  {
   "cell_type": "code",
   "execution_count": null,
   "id": "f2940bd0-98a2-4a4d-8990-634bbf325406",
   "metadata": {},
   "outputs": [],
   "source": [
    "# Now let's detect insertions and deletions!\n",
    "\n",
    "for hole in all_holes:    \n",
    "    sequences_with_hole, sequences_without_hole = classify_sequences_for_hole(hole)\n",
    "    \n",
    "    # Check monophyly and make an inference for whether it is an insertion or a deletion\n",
    "    monophyletic_insertion = is_monophyletic([seq[\"name\"] for seq in sequences_without_hole])\n",
    "    monophyletic_deletion = is_monophyletic([seq[\"name\"] for seq in sequences_with_hole])\n",
    "    # Process based on monophyly results\n",
    "    if monophyletic_deletion and not monophyletic_insertion:\n",
    "        for seq in sequences_with_hole:\n",
    "            seq[\"indels\"].append(dict(name=\"Del\", position=hole[\"position\"], length=hole[\"length\"]))\n",
    "    elif monophyletic_insertion and not monophyletic_deletion:\n",
    "        for seq in sequences_without_hole:\n",
    "            seq[\"indels\"].append(dict(name=\"In\", position=hole[\"position\"], length=hole[\"length\"]))\n",
    "    else:\n",
    "        print(\"Strange indel: \", hole)"
   ]
  },
  {
   "cell_type": "code",
   "execution_count": null,
   "id": "8ca4ac88-ce1b-44f8-ba59-f3373e403b4c",
   "metadata": {},
   "outputs": [],
   "source": [
    "# Let's take a look at this strange indel\n",
    "for seq in sequences:\n",
    "    print(seq[\"gene\"][130:170], seq[\"name\"])"
   ]
  },
  {
   "cell_type": "code",
   "execution_count": null,
   "id": "f8408911-dd2d-4067-ae27-2c6613e4afca",
   "metadata": {},
   "outputs": [],
   "source": [
    "Phylo.draw_ascii(TREE)"
   ]
  },
  {
   "cell_type": "code",
   "execution_count": null,
   "id": "e9ef5a8c-d66b-4426-8049-517a3e82045c",
   "metadata": {},
   "outputs": [],
   "source": [
    "for seq in sequences:\n",
    "    print(seq[\"name\"], seq[\"indels\"])"
   ]
  },
  {
   "cell_type": "markdown",
   "id": "22b5cbd2-2d62-4100-a156-93681bb0f924",
   "metadata": {},
   "source": [
    "## Figure out which ones are mutually compensatory"
   ]
  },
  {
   "cell_type": "code",
   "execution_count": null,
   "id": "58c1bcc1-621c-45f8-b3cb-9b1986ad337f",
   "metadata": {},
   "outputs": [],
   "source": [
    "for seq in sequences:\n",
    "    # Getting rid of indels with length divisible by 3 - we are not interested in those.\n",
    "    interesting_indels = list(filter(lambda el: el[\"length\"] % 3 != 0, seq[\"indels\"]))\n",
    "    for indel1 in interesting_indels:\n",
    "        for indel2 in interesting_indels:\n",
    "            if indel1[\"position\"] < indel2[\"position\"]:\n",
    "                if (indel1[\"name\"] == indel2[\"name\"] and (indel1[\"length\"] + indel2[\"length\"]) % 3 == 0) \\\n",
    "                        or (indel1[\"name\"] != indel2[\"name\"] and (indel1[\"length\"] - indel2[\"length\"]) % 3 == 0):\n",
    "                    new_frameshift = (seq[\"name\"], \n",
    "                                      f\"{indel1['name']}_{indel1['position']}_{indel1['length']}\", \n",
    "                                      f\"{indel2['name']}_{indel2['position']}_{indel2['length']}\")\n",
    "                    print(new_frameshift)    "
   ]
  },
  {
   "cell_type": "code",
   "execution_count": null,
   "id": "b2b7a1d2-8922-42a4-8fa9-6082f44056b8",
   "metadata": {},
   "outputs": [],
   "source": []
  },
  {
   "cell_type": "code",
   "execution_count": null,
   "id": "d14dca86-9075-4828-87ba-59e31b5d8588",
   "metadata": {},
   "outputs": [],
   "source": []
  }
 ],
 "metadata": {
  "kernelspec": {
   "display_name": "Python 3 (ipykernel)",
   "language": "python",
   "name": "python3"
  },
  "language_info": {
   "codemirror_mode": {
    "name": "ipython",
    "version": 3
   },
   "file_extension": ".py",
   "mimetype": "text/x-python",
   "name": "python",
   "nbconvert_exporter": "python",
   "pygments_lexer": "ipython3",
   "version": "3.11.0rc1"
  }
 },
 "nbformat": 4,
 "nbformat_minor": 5
}
